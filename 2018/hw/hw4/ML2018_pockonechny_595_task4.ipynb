{
 "cells": [
  {
   "cell_type": "markdown",
   "metadata": {},
   "source": [
    "# According to Data Processing Guide"
   ]
  },
  {
   "cell_type": "code",
   "execution_count": null,
   "metadata": {
    "collapsed": true
   },
   "outputs": [],
   "source": [
    "import sys\n",
    "sys.path.insert(0, 'basic_codes')\n",
    "\n",
    "import class_magnesium_not_drop_na #_transform_pairings\n",
    "from class_magnesium_not_drop_na import *\n",
    "from sklearn.ensemble import AdaBoostClassifier"
   ]
  },
  {
   "cell_type": "code",
   "execution_count": null,
   "metadata": {
    "collapsed": true
   },
   "outputs": [],
   "source": [
    "file_train = 'train.csv'\n",
    "file_test = 'test.csv'\n",
    "fold = './'"
   ]
  },
  {
   "cell_type": "code",
   "execution_count": null,
   "metadata": {
    "collapsed": true
   },
   "outputs": [],
   "source": [
    "import importlib\n",
    "importlib.reload(class_magnesium_not_drop_na)\n",
    "from class_magnesium_not_drop_na import *"
   ]
  },
  {
   "cell_type": "code",
   "execution_count": null,
   "metadata": {
    "collapsed": true
   },
   "outputs": [],
   "source": [
    "'''\n",
    "    Класс Magnesium загружает данные из файла file_, находящегося в папке fold. \n",
    "    Делает dropna (чтобы кас не ругался)\n",
    "    \n",
    "    model - модель, с которой вы хотите работать, по умолчанию RFC\n",
    "    Сохраняет переменные:\n",
    "    data - загруженный DataFrame\n",
    "    features - признаки\n",
    "    groups - цепочки\n",
    "    x - данные для бучения в виде Numpy-матрицы\n",
    "    y - целевой признак\n",
    "'''\n",
    "m = Magnesium(file_train, fold = fold, model=AdaBoostClassifier(base_estimator=None, n_estimators=400, learning_rate=0.8))"
   ]
  },
  {
   "cell_type": "code",
   "execution_count": null,
   "metadata": {
    "collapsed": true
   },
   "outputs": [],
   "source": [
    "def load_data(filename):\n",
    "    '''\n",
    "        Функция для загрузки датасета без инициализации класса. \n",
    "        \n",
    "        Возвращает:\n",
    "         data - полный DataFrame\n",
    "         fetures - список признаков для обучения/предсказания\n",
    "         x - датасет для тренировки/предсказания в формате np.array\n",
    "         y - целевой признак, если он есть. В случае с тестовым датасетом возвращает None\n",
    "    '''\n",
    "    \n",
    "    data = pd.read_table(filename, sep=',').dropna()    \n",
    "    \n",
    "    data = data[~(data['chainlen']>1000)]\n",
    "\n",
    "    if ('DSSR' in data.columns):\n",
    "        data.drop('DSSR', axis=1, inplace=True)    \n",
    "    \n",
    "    features = list(deepcopy(data.columns))\n",
    "    [features.remove(column) for column in ['Id','index', 'pdb_chain', 'mg'] if column in data.columns];\n",
    "    x_test = np.array(data[features])\n",
    "    \n",
    "    try:\n",
    "        y_test = np.array(data['mg'])\n",
    "    except: \n",
    "        y_test = None\n",
    "    change_output('Data loaded')\n",
    "    return {'data':data, 'features':features, 'x':x_test, 'y':y_test}"
   ]
  },
  {
   "cell_type": "code",
   "execution_count": null,
   "metadata": {
    "collapsed": true
   },
   "outputs": [],
   "source": [
    "test = load_data(fold+file_test)"
   ]
  },
  {
   "cell_type": "code",
   "execution_count": null,
   "metadata": {
    "collapsed": true
   },
   "outputs": [],
   "source": [
    "m.trained_model = deepcopy(m.model)\n",
    "m.trained_model.fit(m.x, m.y)"
   ]
  },
  {
   "cell_type": "markdown",
   "metadata": {},
   "source": [
    "???\n",
    "\n",
    "PROFIT!"
   ]
  }
 ],
 "metadata": {
  "kernelspec": {
   "display_name": "Python 3",
   "language": "python",
   "name": "python3"
  },
  "language_info": {
   "codemirror_mode": {
    "name": "ipython",
    "version": 3
   },
   "file_extension": ".py",
   "mimetype": "text/x-python",
   "name": "python",
   "nbconvert_exporter": "python",
   "pygments_lexer": "ipython3",
   "version": "3.6.3"
  }
 },
 "nbformat": 4,
 "nbformat_minor": 2
}
