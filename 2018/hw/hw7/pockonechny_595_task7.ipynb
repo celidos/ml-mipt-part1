{
  "nbformat": 4,
  "nbformat_minor": 0,
  "metadata": {
    "colab": {
      "name": "tf_cnn_hw",
      "version": "0.3.2",
      "views": {},
      "default_view": {},
      "provenance": [],
      "collapsed_sections": [],
      "toc_visible": true
    },
    "kernelspec": {
      "display_name": "Python 3",
      "language": "python",
      "name": "python3"
    },
    "accelerator": "GPU"
  },
  "cells": [
    {
      "metadata": {
        "id": "aTwriIfYD6-U",
        "colab_type": "text"
      },
      "cell_type": "markdown",
      "source": [
        "<span style=\"font-size: 14pt\">MIPT, Advanced ML, Spring 2018</span>\n",
        "\n",
        "<span style=\"font-size: 16pt\"> HW #7: CNN models\n",
        "\n",
        "<span style=\"color:blue; font-size: 12pt\">Sergey Kolesnikov</span>,\n",
        "<span style=\"color:blue; font-size: 12pt; font-family: 'Verdana'\"> scitator@gmail.com</span>\n"
      ]
    },
    {
      "metadata": {
        "id": "gYJkiBVXD6-V",
        "colab_type": "text"
      },
      "cell_type": "markdown",
      "source": [
        "<h1 align=\"center\">Organization Info</h1> \n",
        "\n",
        "* Дедлайн **27 апреля 2018 23:59** для всех групп.\n",
        "* В качестве решения задания нужно прислать ноутбук с подробными комментариями (<span style='color:red'> без присланного решения результат контеста не будет засчитан </span>).\n",
        "* <span style='color:red'>Название команды в контесте должно соответствовать шаблону: НомерГруппы_Имя_Фамилия, например, 594_Ivan_Ivanov</span>."
      ]
    },
    {
      "metadata": {
        "id": "lV1rMYihD6-X",
        "colab_type": "text"
      },
      "cell_type": "markdown",
      "source": [
        "**Оформление дз**: \n",
        "- Присылайте выполненное задание на почту ``ml.course.mipt@gmail.com``\n",
        "- Укажите тему письма в следующем формате ``ML2018_fall_<номер_группы>_<фамилия>``, к примеру -- ``ML2018_fall_495_ivanov``\n",
        "- Выполненное дз сохраните в файл ``<фамилия>_<группа>_task<номер>.ipnb, к примеру`` -- ``ivanov_401_task7.ipnb``\n",
        "\n",
        "**Вопросы**:\n",
        "- Присылайте вопросы на почту ``ml.course.mipt@gmail.com``\n",
        "- Укажите тему письма в следующем формате ``ML2018_fall Question <Содержание вопроса>``\n",
        "\n",
        "\n",
        "--------\n",
        "- **PS1:** Используются автоматические фильтры, и просто не найдем ваше дз, если вы неаккуратно его подпишите.\n",
        "- **PS2:**  Просроченный дедлайн снижает максимальный вес задания по формуле, указнной на первом семинаре\n",
        "- **PS3:** Допустимы исправление кода предложенного кода ниже, если вы считаете"
      ]
    },
    {
      "metadata": {
        "id": "_7oYELlED6-Z",
        "colab_type": "text"
      },
      "cell_type": "markdown",
      "source": [
        "---"
      ]
    },
    {
      "metadata": {
        "id": "ky19me6ID6-a",
        "colab_type": "text"
      },
      "cell_type": "markdown",
      "source": [
        "<h1 align=\"center\">Check Questions </h1> \n",
        "\n",
        "Ниже приводится список вопросов, с ответами на которые может быть полезно разобраться для понимания темы.\n",
        "\n",
        "**Вопрос 1**: Чем отличаются современные сверточные сети от сетей 5 летней давности?\n",
        "\n",
        "Современные сети крайне сложные и глубокие, стали гораздо глубже, чем раньше. Стали чаще использоваться функции активации ReLU вместо tanh и sigmoid. Также появились новые структурные идеи, например как в ResNet, где часть инпута с предыдущего слоя обрабатывается несколькими простыми фильтрами, а затем складывается с самим инпутом (и такая конструкция повторяется несколько раз).\n",
        "\n",
        "**Вопрос 2**: Какие неприятности могут возникнуть во время обучения современных нейросетей?\n",
        "\n",
        "Сложные модели = требуется много вычислений.\n",
        "\n",
        "Очень глубокие сети сильно зависят от предобработки данных - небольшой шум во входных данных может получить далекие последствия в конце сети.\n",
        "\n",
        "Слишком много параметров для подбора (миллионы) = угроза слишком сложной модели, переобучение.\n",
        "\n",
        "Неправильная структура частей сети.\n",
        "\n",
        "Важен вопрос с подбором функции активации, неправильный выбор может загасить половину нейронов в 0, либо напротив \n",
        "устремить градиенты в бесконечность.\n",
        "\n",
        "\n",
        "**Вопрос 3**: У вас есть очень маленький датасет из 100 картинок, классификация, но вы очень хотите использовать нейросеть, какие неприятности вас ждут и как их решить? Что делать, если первый вариант решения не заработает?\n",
        "\n",
        "Основная проблема - переобучение. На тестовой выборке практически сразу получится нулевой loss, градиент занулится, а сеть переобучится под трайн выборку, по сути сможет отделить каждый конкретный объект из train. \n",
        "\n",
        "Также каждый прогон датасета может оказывать малое влияние на коэффициенты.\n",
        "\n",
        "Решается с помощью data augmentation - генерация кучи других сэмплов путем небольшого изменения и искажения имеющихся.\n",
        "Также возможно стоит увеличить количество эпох.\n",
        "\n",
        "**Вопрос 4**: Можно ли сделать стайл трансфер для музыки и как?\n",
        "\n",
        "???"
      ]
    },
    {
      "metadata": {
        "id": "annvPsbLD6-b",
        "colab_type": "text"
      },
      "cell_type": "markdown",
      "source": [
        "---"
      ]
    },
    {
      "metadata": {
        "id": "olA9fE6SD6-c",
        "colab_type": "text"
      },
      "cell_type": "markdown",
      "source": [
        "<h1 align=\"center\">Theory Questions</h1> "
      ]
    },
    {
      "metadata": {
        "id": "kdur-wBRD6-f",
        "colab_type": "text"
      },
      "cell_type": "markdown",
      "source": [
        "---"
      ]
    },
    {
      "metadata": {
        "id": "z-0u98ElD6-h",
        "colab_type": "text"
      },
      "cell_type": "markdown",
      "source": [
        "### Useful notebooks\n",
        "#### Colab link (seminar): https://colab.research.google.com/drive/18xjvLspViCwTUXTBNiz_xKxlUblQuGPU\n",
        "#### Colab link (hw): https://colab.research.google.com/drive/1FlYpA-JHCZ1UilPScC2zWhZNCkE3Sv78"
      ]
    },
    {
      "metadata": {
        "id": "lUgWePX6D6-j",
        "colab_type": "text"
      },
      "cell_type": "markdown",
      "source": [
        "---"
      ]
    },
    {
      "metadata": {
        "id": "ON1TCk7HD6-k",
        "colab_type": "text"
      },
      "cell_type": "markdown",
      "source": [
        "# CIFAR Quest\n",
        "\n",
        "(please read it at least diagonally)\n",
        "\n",
        "* The ultimate quest is to create a network that has as high __accuracy__ as you can push it.\n",
        "* There is a __mini-report__ at the end that you will have to fill in. We recommend reading it first and filling it while you iterate.\n",
        " \n",
        "## Grading\n",
        "* starting at zero points\n",
        "* +2 for describing your iteration path in a report below.\n",
        "* +2 for correct check questions\n",
        "* +1 for beating each of these milestones on __TEST__ dataset:\n",
        "    * 60% (5 total)\n",
        "    * 65% (6 total)\n",
        "    * 70% (7 total)\n",
        "    * 75% (8 total)\n",
        "    * 80% (9 total)\n",
        "    * 82% (10 total)\n",
        "* +2 for really cool solution:\n",
        "    * 84% (12 total)\n",
        "    * 86% (14 total)\n",
        "    * 88% (16 total)\n",
        "    * 90% (18 total)\n",
        "    * 92% (20 total)\n",
        "    \n",
        "## Bonus points\n",
        "\n",
        "Common ways to get bonus points are:\n",
        "* Get higher score, obviously.\n",
        "* Anything special about your NN. For example \"A super-small/fast NN that gets 80%\" gets a bonus.\n",
        "* Any detailed analysis of the results. (saliency maps, whatever)\n",
        "\n",
        "## Restrictions\n",
        "* Please do __NOT__ use pre-trained networks for this assignment.\n",
        " * In other words, milestones must be beaten without pre-trained nets (and such net must be present in the e-mail).\n",
        "* you __can__ use validation data for training, but you __can't'__ do anything with test data apart from running the evaluation procedure."
      ]
    },
    {
      "metadata": {
        "id": "n4eX6RF5D6-o",
        "colab_type": "text"
      },
      "cell_type": "markdown",
      "source": [
        "---"
      ]
    },
    {
      "metadata": {
        "id": "USgQr8baD6-q",
        "colab_type": "code",
        "colab": {
          "autoexec": {
            "startup": false,
            "wait_interval": 0
          },
          "base_uri": "https://localhost:8080/",
          "height": 233
        },
        "outputId": "b6da3855-17fe-480a-b69a-6d0ced38da90",
        "executionInfo": {
          "status": "ok",
          "timestamp": 1525242664431,
          "user_tz": -180,
          "elapsed": 19001,
          "user": {
            "displayName": "Eduard Winston",
            "photoUrl": "https://lh3.googleusercontent.com/a/default-user=s128",
            "userId": "106109785466818022806"
          }
        }
      },
      "cell_type": "code",
      "source": [
        "# Load data. It may work slow.\n",
        "!mkdir cifar10\n",
        "!curl -o cifar-10-python.tar.gz https://www.cs.toronto.edu/~kriz/cifar-10-python.tar.gz\n",
        "!tar -xvzf cifar-10-python.tar.gz -C cifar10"
      ],
      "execution_count": 1,
      "outputs": [
        {
          "output_type": "stream",
          "text": [
            "  % Total    % Received % Xferd  Average Speed   Time    Time     Time  Current\r\n",
            "                                 Dload  Upload   Total   Spent    Left  Speed\n",
            "100  162M  100  162M    0     0  13.5M      0  0:00:12  0:00:12 --:--:-- 6975k\n",
            "cifar-10-batches-py/\n",
            "cifar-10-batches-py/data_batch_4\n",
            "cifar-10-batches-py/readme.html\n",
            "cifar-10-batches-py/test_batch\n",
            "cifar-10-batches-py/data_batch_3\n",
            "cifar-10-batches-py/batches.meta\n",
            "cifar-10-batches-py/data_batch_2\n",
            "cifar-10-batches-py/data_batch_5\n",
            "cifar-10-batches-py/data_batch_1\n"
          ],
          "name": "stdout"
        }
      ]
    },
    {
      "metadata": {
        "id": "gYHifggsESmk",
        "colab_type": "code",
        "colab": {
          "autoexec": {
            "startup": false,
            "wait_interval": 0
          },
          "base_uri": "https://localhost:8080/",
          "height": 35
        },
        "outputId": "b8045b60-a143-4a9d-fc71-800e1d80773a",
        "executionInfo": {
          "status": "ok",
          "timestamp": 1525242667053,
          "user_tz": -180,
          "elapsed": 2504,
          "user": {
            "displayName": "Eduard Winston",
            "photoUrl": "https://lh3.googleusercontent.com/a/default-user=s128",
            "userId": "106109785466818022806"
          }
        }
      },
      "cell_type": "code",
      "source": [
        "!ls"
      ],
      "execution_count": 2,
      "outputs": [
        {
          "output_type": "stream",
          "text": [
            "cifar10  cifar-10-python.tar.gz  datalab\r\n"
          ],
          "name": "stdout"
        }
      ]
    },
    {
      "metadata": {
        "id": "Ef74LHhpD6-0",
        "colab_type": "code",
        "colab": {
          "autoexec": {
            "startup": false,
            "wait_interval": 0
          }
        }
      },
      "cell_type": "code",
      "source": [
        "import _pickle as pickle\n",
        "import os\n",
        "import time\n",
        "import numpy as np\n",
        "import tensorflow as tf\n",
        "from sklearn.model_selection import train_test_split\n",
        "\n",
        "import matplotlib.pyplot as plt\n",
        "import seaborn\n",
        "%matplotlib inline"
      ],
      "execution_count": 0,
      "outputs": []
    },
    {
      "metadata": {
        "id": "kKs3kf5OD6-4",
        "colab_type": "code",
        "colab": {
          "autoexec": {
            "startup": false,
            "wait_interval": 0
          },
          "base_uri": "https://localhost:8080/",
          "height": 35
        },
        "outputId": "ee627c3c-86f5-45d8-f49f-363159823213",
        "executionInfo": {
          "status": "ok",
          "timestamp": 1525242676514,
          "user_tz": -180,
          "elapsed": 835,
          "user": {
            "displayName": "Eduard Winston",
            "photoUrl": "https://lh3.googleusercontent.com/a/default-user=s128",
            "userId": "106109785466818022806"
          }
        }
      },
      "cell_type": "code",
      "source": [
        "tf.__version__"
      ],
      "execution_count": 4,
      "outputs": [
        {
          "output_type": "execute_result",
          "data": {
            "text/plain": [
              "'1.7.0'"
            ]
          },
          "metadata": {
            "tags": []
          },
          "execution_count": 4
        }
      ]
    },
    {
      "metadata": {
        "id": "sOtXXEDGD6-9",
        "colab_type": "code",
        "colab": {
          "autoexec": {
            "startup": false,
            "wait_interval": 0
          },
          "base_uri": "https://localhost:8080/",
          "height": 35
        },
        "outputId": "352c0bdc-d138-45b1-8c49-269c403066cb",
        "executionInfo": {
          "status": "ok",
          "timestamp": 1525242678522,
          "user_tz": -180,
          "elapsed": 1512,
          "user": {
            "displayName": "Eduard Winston",
            "photoUrl": "https://lh3.googleusercontent.com/a/default-user=s128",
            "userId": "106109785466818022806"
          }
        }
      },
      "cell_type": "code",
      "source": [
        "tf.test.is_gpu_available()"
      ],
      "execution_count": 5,
      "outputs": [
        {
          "output_type": "execute_result",
          "data": {
            "text/plain": [
              "True"
            ]
          },
          "metadata": {
            "tags": []
          },
          "execution_count": 5
        }
      ]
    },
    {
      "metadata": {
        "id": "Vlsm1SUAD6_B",
        "colab_type": "code",
        "colab": {
          "autoexec": {
            "startup": false,
            "wait_interval": 0
          }
        }
      },
      "cell_type": "code",
      "source": [
        "def load_CIFAR_batch(filename):\n",
        "    \"\"\" load single batch of cifar \"\"\"\n",
        "    with open(filename, 'rb') as f:\n",
        "        datadict = pickle.load(f, encoding='iso-8859-1')\n",
        "        X = datadict['data']\n",
        "        Y = datadict['labels']\n",
        "        X = X.reshape(10000, 3, 32, 32).astype(\"float\")\n",
        "        Y = np.array(Y)\n",
        "        return X, Y\n",
        "\n",
        "def load_CIFAR10(ROOT):\n",
        "    \"\"\" load all of cifar \"\"\"\n",
        "    xs = []\n",
        "    ys = []\n",
        "    for b in range(1,6):\n",
        "        f = os.path.join(ROOT, 'data_batch_%d' % (b, ))\n",
        "        X, Y = load_CIFAR_batch(f)\n",
        "        xs.append(X)\n",
        "        ys.append(Y)    \n",
        "    Xtr = np.concatenate(xs)\n",
        "    Ytr = np.concatenate(ys)\n",
        "    del X, Y\n",
        "    Xte, Yte = load_CIFAR_batch(os.path.join(ROOT, 'test_batch'))\n",
        "    return Xtr, Ytr, Xte, Yte"
      ],
      "execution_count": 0,
      "outputs": []
    },
    {
      "metadata": {
        "id": "_E44ZuuqUeUr",
        "colab_type": "code",
        "colab": {
          "autoexec": {
            "startup": false,
            "wait_interval": 0
          }
        }
      },
      "cell_type": "code",
      "source": [
        "from sklearn.preprocessing import normalize\n",
        "from sklearn.preprocessing import scale"
      ],
      "execution_count": 0,
      "outputs": []
    },
    {
      "metadata": {
        "id": "NXKkwdBnD6_G",
        "colab_type": "code",
        "colab": {
          "autoexec": {
            "startup": false,
            "wait_interval": 0
          }
        }
      },
      "cell_type": "code",
      "source": [
        "plt.rcParams['figure.figsize'] = (10.0, 8.0) \n",
        "\n",
        "cifar10_dir = './cifar10/cifar-10-batches-py'\n",
        "X_train, y_train, X_test, y_test = load_CIFAR10(cifar10_dir)\n",
        "\n",
        "X_train = X_train.transpose(0, 2, 3, 1)\n",
        "X_test  = X_test.transpose(0, 2, 3, 1)\n",
        "\n",
        "X_train, X_test = X_train / 255, X_test  / 255\n",
        "mean, std = np.mean(X_train, axis=0), np.std(X_train, axis=0)\n",
        "X_train, X_test = (X_train - mean) / std, (X_test - mean) / std\n",
        "\n",
        "X_train, X_val, y_train, y_val = train_test_split(X_train, y_train, test_size=0.1)"
      ],
      "execution_count": 0,
      "outputs": []
    },
    {
      "metadata": {
        "id": "incCR2nKGS75",
        "colab_type": "code",
        "colab": {
          "autoexec": {
            "startup": false,
            "wait_interval": 0
          },
          "base_uri": "https://localhost:8080/",
          "height": 35
        },
        "outputId": "7b26b7a2-160c-4a99-aec9-0a24ed935f09",
        "executionInfo": {
          "status": "ok",
          "timestamp": 1525242689684,
          "user_tz": -180,
          "elapsed": 702,
          "user": {
            "displayName": "Eduard Winston",
            "photoUrl": "https://lh3.googleusercontent.com/a/default-user=s128",
            "userId": "106109785466818022806"
          }
        }
      },
      "cell_type": "code",
      "source": [
        "print('Train', X_train.shape, 'val', X_val.shape, 'test', X_test.shape)"
      ],
      "execution_count": 9,
      "outputs": [
        {
          "output_type": "stream",
          "text": [
            "Train (45000, 32, 32, 3) val (5000, 32, 32, 3) test (10000, 32, 32, 3)\n"
          ],
          "name": "stdout"
        }
      ]
    },
    {
      "metadata": {
        "id": "clyPSW3YUAOM",
        "colab_type": "code",
        "colab": {
          "autoexec": {
            "startup": false,
            "wait_interval": 0
          }
        }
      },
      "cell_type": "code",
      "source": [
        "def draw_samples():\n",
        "  for y, cls in enumerate(classes):\n",
        "    idxs = np.flatnonzero(y_train == y)\n",
        "    idxs = np.random.choice(idxs, samples_per_class, replace=False)\n",
        "    for i, idx in enumerate(idxs):\n",
        "        plt_idx = i * num_classes + y + 1\n",
        "        plt.subplot(samples_per_class, num_classes, plt_idx)\n",
        "        plt.imshow(X_train[idx].astype('int64'))#.transpose(1, 2, 0))\n",
        "        plt.axis('off')\n",
        "        if i == 0:\n",
        "            plt.title(cls)\n",
        "  plt.show()"
      ],
      "execution_count": 0,
      "outputs": []
    },
    {
      "metadata": {
        "id": "wKSQMlU-D6_M",
        "colab_type": "code",
        "colab": {
          "autoexec": {
            "startup": false,
            "wait_interval": 0
          }
        }
      },
      "cell_type": "code",
      "source": [
        "classes = ['plane', 'car', 'bird', 'cat', 'deer', 'dog', 'frog', 'horse', 'ship', 'truck']\n",
        "num_classes = len(classes)\n",
        "samples_per_class = 7\n",
        "\n",
        "# draw_samples()"
      ],
      "execution_count": 0,
      "outputs": []
    },
    {
      "metadata": {
        "id": "_V2SnrCrZBGg",
        "colab_type": "code",
        "colab": {
          "autoexec": {
            "startup": false,
            "wait_interval": 0
          },
          "base_uri": "https://localhost:8080/",
          "height": 35
        },
        "outputId": "db7f5f34-1d6b-4a8b-dba4-575e0897fd90",
        "executionInfo": {
          "status": "ok",
          "timestamp": 1525242693395,
          "user_tz": -180,
          "elapsed": 1281,
          "user": {
            "displayName": "Eduard Winston",
            "photoUrl": "https://lh3.googleusercontent.com/a/default-user=s128",
            "userId": "106109785466818022806"
          }
        }
      },
      "cell_type": "code",
      "source": [
        "X_train.shape"
      ],
      "execution_count": 12,
      "outputs": [
        {
          "output_type": "execute_result",
          "data": {
            "text/plain": [
              "(45000, 32, 32, 3)"
            ]
          },
          "metadata": {
            "tags": []
          },
          "execution_count": 12
        }
      ]
    },
    {
      "metadata": {
        "id": "6EmZpeEofhmF",
        "colab_type": "code",
        "colab": {
          "autoexec": {
            "startup": false,
            "wait_interval": 0
          },
          "base_uri": "https://localhost:8080/",
          "height": 35
        },
        "outputId": "15bb6a15-0803-4277-c23f-ddcc3d811fe5",
        "executionInfo": {
          "status": "ok",
          "timestamp": 1525242694380,
          "user_tz": -180,
          "elapsed": 512,
          "user": {
            "displayName": "Eduard Winston",
            "photoUrl": "https://lh3.googleusercontent.com/a/default-user=s128",
            "userId": "106109785466818022806"
          }
        }
      },
      "cell_type": "code",
      "source": [
        "type(X_train[0, 0, 0, 0])"
      ],
      "execution_count": 13,
      "outputs": [
        {
          "output_type": "execute_result",
          "data": {
            "text/plain": [
              "numpy.float64"
            ]
          },
          "metadata": {
            "tags": []
          },
          "execution_count": 13
        }
      ]
    },
    {
      "metadata": {
        "id": "lX1wxZT0D6_T",
        "colab_type": "code",
        "colab": {
          "autoexec": {
            "startup": false,
            "wait_interval": 0
          }
        }
      },
      "cell_type": "code",
      "source": [
        "# Write your convolutional NN with Tensorflow (example in seminar).\n",
        "# For example 3 convolutions and poolings and dense layer after that.\n",
        "\n",
        "l2reg = tf.contrib.layers.l2_regularizer(scale=1e-4)\n",
        "\n",
        "cust_learning_rate = tf.placeholder(tf.float32, shape=[])\n",
        "cust_mode = tf.placeholder(tf.bool, shape=[])\n",
        "\n",
        "input_layer = tf.placeholder(\n",
        "    tf.float32, \n",
        "    shape=[None, 32, 32, 3], \n",
        "    name=\"input\"\n",
        ")\n",
        "\n",
        "# Convolutional Layer #1\n",
        "conv1 = tf.layers.conv2d(\n",
        "    inputs=input_layer,\n",
        "    filters=32, \n",
        "    kernel_size=[3, 3],\n",
        "    padding=\"same\",\n",
        "    activation=tf.nn.relu,\n",
        "    kernel_regularizer=l2reg\n",
        ")\n",
        "\n",
        "batch_norm1 = tf.layers.batch_normalization(\n",
        "    inputs=conv1,\n",
        "    axis=3\n",
        ")\n",
        "\n",
        "# # Pooling Layer #2\n",
        "# pool1 = tf.layers.max_pooling2d(\n",
        "#     inputs=, \n",
        "#     pool_size=[2, 2], \n",
        "#     strides=2)\n",
        "\n",
        "\n",
        "\n",
        "# Convolutional Layer #2 \n",
        "conv2 = tf.layers.conv2d(\n",
        "    inputs=batch_norm1,\n",
        "    filters=32,\n",
        "    kernel_size=[3, 3],\n",
        "    padding=\"same\",\n",
        "    activation=tf.nn.relu,\n",
        "    kernel_regularizer=l2reg)\n",
        "\n",
        "# pool2 = tf.layers.max_pooling2d(\n",
        "#     inputs=conv2, \n",
        "#     pool_size=[2, 2], \n",
        "#     strides=2)\n",
        "\n",
        "batch_norm2 = tf.layers.batch_normalization(\n",
        "    inputs=conv2,\n",
        "    axis=3\n",
        ")\n",
        "\n",
        "pool2 = tf.layers.max_pooling2d(\n",
        "    inputs=batch_norm2, \n",
        "    pool_size=[2, 2], \n",
        "    strides=2)\n",
        "\n",
        "dropout2 = tf.layers.dropout(\n",
        "    inputs=pool2, \n",
        "    rate=0.2,\n",
        "    training=cust_mode)\n",
        "\n",
        "\n",
        "\n",
        "\n",
        "\n",
        "\n",
        "\n",
        "\n",
        "\n",
        "\n",
        "\n",
        "conv3 = tf.layers.conv2d(\n",
        "    inputs=dropout2,\n",
        "    filters=64,\n",
        "    kernel_size=[3,3],\n",
        "    padding=\"same\",\n",
        "    activation=tf.nn.relu,\n",
        "    kernel_regularizer=l2reg)\n",
        "\n",
        "batch_norm3 = tf.layers.batch_normalization(\n",
        "    inputs=conv3,\n",
        "    axis=3\n",
        ")\n",
        "\n",
        "conv4 = tf.layers.conv2d(\n",
        "    inputs=batch_norm3,\n",
        "    filters=64,\n",
        "    kernel_size=[3, 3],\n",
        "    padding=\"same\",\n",
        "    activation=tf.nn.relu,\n",
        "    kernel_regularizer=l2reg\n",
        ")\n",
        "\n",
        "# pool2 = tf.layers._pooling2d(\n",
        "#     inputs=conv4, \n",
        "#     pool_size=[2, 2], \n",
        "#     strides=2)\n",
        "\n",
        "batch_norm4 = tf.layers.batch_normalization(\n",
        "    inputs=conv4,\n",
        "    axis=3\n",
        ")\n",
        "\n",
        "pool4 = tf.layers.max_pooling2d(\n",
        "    inputs=batch_norm4, \n",
        "    pool_size=[2, 2], \n",
        "    strides=2)\n",
        "\n",
        "dropout4 = tf.layers.dropout(\n",
        "    inputs=pool4, \n",
        "    rate=0.3,\n",
        "    training=cust_mode)\n",
        "\n",
        "\n",
        "\n",
        "\n",
        "conv5 = tf.layers.conv2d(\n",
        "    inputs=dropout4,\n",
        "    filters=128,\n",
        "    kernel_size=[3,3],\n",
        "    padding=\"same\",\n",
        "    activation=tf.nn.relu,\n",
        "    kernel_regularizer=l2reg)\n",
        "\n",
        "batch_norm5 = tf.layers.batch_normalization(\n",
        "    inputs=conv5,\n",
        "    axis=3\n",
        ")\n",
        "\n",
        "conv6 = tf.layers.conv2d(\n",
        "    inputs=batch_norm5,\n",
        "    filters=128,\n",
        "    kernel_size=[3, 3],\n",
        "    padding=\"same\",\n",
        "    activation=tf.nn.relu,\n",
        "    kernel_regularizer=l2reg\n",
        ")\n",
        "\n",
        "# pool2 = tf.layers._pooling2d(\n",
        "#     inputs=conv4, \n",
        "#     pool_size=[2, 2], \n",
        "#     strides=2)\n",
        "\n",
        "batch_norm6 = tf.layers.batch_normalization(\n",
        "    inputs=conv6,\n",
        "    axis=3\n",
        ")\n",
        "\n",
        "pool6 = tf.layers.max_pooling2d(\n",
        "    inputs=batch_norm6, \n",
        "    pool_size=[2, 2], \n",
        "    strides=2)\n",
        "\n",
        "dropout6 = tf.layers.dropout(\n",
        "    inputs=pool6, \n",
        "    rate=0.4,\n",
        "    training=cust_mode)\n",
        "\n",
        "\n",
        "\n",
        "# Dense Layer\n",
        "pool2_flat = tf.reshape(dropout6, [-1, 4 * 4 * 128])\n",
        "\n",
        "dense2 = tf.layers.dense(\n",
        "    inputs=pool2_flat, \n",
        "    units=512, \n",
        "    activation=tf.nn.relu)\n",
        "\n",
        "logits = tf.layers.dense(inputs=dense2, units=10)#dropout, units=10)\n",
        "\n",
        "# NETWORK FINISHES HERE ---\n",
        "\n",
        "labels = tf.placeholder(tf.int64, name=\"labels\")\n",
        "predictions = tf.argmax(input=logits, axis=1)\n",
        "\n",
        "accuracy = tf.reduce_mean(tf.cast(tf.equal(labels, predictions), tf.float32))\n",
        "\n",
        "loss = tf.losses.sparse_softmax_cross_entropy(labels=labels, logits=logits)\n",
        "glstep = tf.train.get_global_step()\n",
        "optimizer_step = tf.train.AdamOptimizer(learning_rate=cust_learning_rate).minimize(loss, global_step=glstep)"
      ],
      "execution_count": 0,
      "outputs": []
    },
    {
      "metadata": {
        "id": "u22QW1Fq4Wgn",
        "colab_type": "code",
        "colab": {
          "autoexec": {
            "startup": false,
            "wait_interval": 0
          }
        }
      },
      "cell_type": "code",
      "source": [
        "def train_fn(X, y, sess, lr):\n",
        "    '''\n",
        "    returns tuple (loss, accuracy) for model train phase\n",
        "    '''\n",
        "#     pass\n",
        "#     print('debug! ', X.shape, y.shape)\n",
        "#     optimizer_step = tf.train.AdamOptimizer(learning_rate=lr).minimize(loss, global_step=glstep)\n",
        "\n",
        "    sess.run(optimizer_step, feed_dict={input_layer : X, labels : y, cust_learning_rate : lr, cust_mode : True})   \n",
        "    \n",
        "    return (sess.run(loss,     feed_dict={input_layer : X, labels : y, cust_mode : True}), \n",
        "            sess.run(accuracy, feed_dict={input_layer : X, labels : y, cust_mode : True}))\n",
        "\n",
        "def eval_fn(X, y, sess):\n",
        "    '''\n",
        "    returns tuple (loss, accuracy) for model evaluation  phase\n",
        "    '''\n",
        "#     pass\n",
        "    return (sess.run(loss,     feed_dict={input_layer : X, labels : y, cust_mode : False}), \n",
        "            sess.run(accuracy, feed_dict={input_layer : X, labels : y, cust_mode : False}))\n",
        "\n",
        "\n",
        "def predict_fn(X, sess):\n",
        "    '''\n",
        "    returns y_pred for model predict phase\n",
        "    '''\n",
        "#     pass\n",
        "    return sess.run(predictions, feed_dict={input_layer : X, labels : y, cust_mode : False})\n"
      ],
      "execution_count": 0,
      "outputs": []
    },
    {
      "metadata": {
        "id": "UuVRdbbkD6_X",
        "colab_type": "code",
        "colab": {
          "autoexec": {
            "startup": false,
            "wait_interval": 0
          }
        }
      },
      "cell_type": "code",
      "source": [
        "def iterate_minibatches(inputs, targets, batchsize, shuffle=False):\n",
        "    assert len(inputs) == len(targets)\n",
        "    if shuffle:\n",
        "        indices = np.arange(len(inputs))\n",
        "        np.random.shuffle(indices)\n",
        "    for start_idx in range(0, len(inputs) - batchsize + 1, batchsize):\n",
        "        if shuffle:\n",
        "            excerpt = indices[start_idx:start_idx + batchsize]\n",
        "        else:\n",
        "            excerpt = slice(start_idx, start_idx + batchsize)\n",
        "        yield inputs[excerpt], targets[excerpt]"
      ],
      "execution_count": 0,
      "outputs": []
    },
    {
      "metadata": {
        "id": "rC-o9hjMD6_g",
        "colab_type": "code",
        "colab": {
          "autoexec": {
            "startup": false,
            "wait_interval": 0
          },
          "base_uri": "https://localhost:8080/",
          "height": 4183
        },
        "outputId": "a25d3526-c605-4798-ab59-69fe9eead35a",
        "executionInfo": {
          "status": "ok",
          "timestamp": 1525244379836,
          "user_tz": -180,
          "elapsed": 843152,
          "user": {
            "displayName": "Eduard Winston",
            "photoUrl": "https://lh3.googleusercontent.com/a/default-user=s128",
            "userId": "106109785466818022806"
          }
        }
      },
      "cell_type": "code",
      "source": [
        "num_epochs = 25\n",
        "batch_size = 64\n",
        "\n",
        "train_scores = []\n",
        "val_scores   = []\n",
        "\n",
        "train_losses = []\n",
        "val_losses   = []\n",
        "\n",
        "learningstep_param = 0.00045\n",
        "with tf.Session() as sess:\n",
        "    tf.global_variables_initializer().run()\n",
        "    \n",
        "    for epoch in range(num_epochs):\n",
        "        # In each epoch, we do a full pass over the training data:\n",
        "        \n",
        "        print('Epoch {}...'.format(epoch + 1))\n",
        "        train_loss = 0\n",
        "        train_acc = 0\n",
        "        train_batches = 0\n",
        "        start_time = time.time()\n",
        "        \n",
        "#         optimizer_step = tf.train.AdamOptimizer(learning_rate=learningstep_param).minimize(loss, global_step=glstep)\n",
        "        \n",
        "        learningstep_param /= 1.03\n",
        "        print('learning step', learningstep_param)\n",
        "      \n",
        "        for batch in iterate_minibatches(X_train, y_train, batch_size):\n",
        "            inputs, targets = batch\n",
        "#             print('debug#1 ', type(inputs), type(targets))\n",
        "\n",
        "\n",
        "            \n",
        "            train_loss_batch, train_acc_batch = train_fn(inputs, targets, sess, learningstep_param)\n",
        "   \n",
        "            train_loss += train_loss_batch\n",
        "    \n",
        "#             print('batch loss', train_loss_batch, 'acc', train_acc_batch)\n",
        "            \n",
        "            train_acc += train_acc_batch\n",
        "            train_batches += 1\n",
        "      \n",
        "        train_losses.append(train_loss / train_batches)\n",
        "        train_scores.append(train_acc / train_batches)\n",
        "    \n",
        "        # And a full pass over the validation data:\n",
        "        valid_loss = 0\n",
        "        valid_acc = 0\n",
        "        valid_batches = 0\n",
        "        for batch in iterate_minibatches(X_val, y_val, batch_size):\n",
        "            inputs, targets = batch\n",
        "            valid_loss_batch, valid_acc_batch = eval_fn(inputs, targets, sess)\n",
        "            valid_loss += valid_loss_batch\n",
        "            valid_acc += valid_acc_batch\n",
        "            valid_batches += 1\n",
        "            \n",
        "        val_losses.append(valid_loss / valid_batches)\n",
        "        val_scores.append(valid_acc / valid_batches)\n",
        "    \n",
        "        # Then we print the results for this epoch:\n",
        "        print(\"Epoch {} of {} took {:.3f}s\".format(epoch + 1, num_epochs, time.time() - start_time))\n",
        "        print(\"  train loss:\\t\\t{:.6f}\".format(train_loss / train_batches))\n",
        "#         print(\"  train loss:\\t\\t{}{}\".format(type(train_loss), type(train_batches)))\n",
        "        print(\"  train accuracy:\\t\\t{:.2f} %\".format(train_acc / train_batches * 100))\n",
        "#         print(\"  train accuracy:\\t\\t{:.2f} %\".format(train_acc / train_batches *))\n",
        "        print(\"  valid loss:\\t\\t{:.6f}\".format(valid_loss / valid_batches))\n",
        "        print(\"  valid accuracy:\\t\\t{:.2f} %\".format(valid_acc / valid_batches * 100))\n",
        "    \n",
        "    plt.figure(figsize=(12, 8))\n",
        "    plt.plot(np.arange(1, num_epochs+1), train_scores, label='train')\n",
        "    plt.plot(np.arange(1, num_epochs+1), val_scores, label='val')\n",
        "    plt.legend()\n",
        "    plt.grid()\n",
        "    plt.title('scores')\n",
        "    plt.show()\n",
        "    \n",
        "    plt.figure(figsize=(12, 8))\n",
        "    plt.plot(np.arange(1, num_epochs+1), train_losses, label='train')\n",
        "    plt.plot(np.arange(1, num_epochs+1), val_losses, label='val')\n",
        "    plt.legend()\n",
        "    plt.grid()\n",
        "    plt.title('losses')\n",
        "    plt.show()\n",
        "    \n",
        "    # TEST SCORE ---------------------------------------------------------------\n",
        "    \n",
        "    test_acc = 0\n",
        "    test_batches = 0\n",
        "    for batch in iterate_minibatches(X_test, y_test, 500):\n",
        "        inputs, targets = batch\n",
        "        _, acc = eval_fn(inputs, targets, sess)\n",
        "        test_acc += acc\n",
        "        test_batches += 1\n",
        "    print(\"Final results:\")\n",
        "    print(\"  test accuracy:\\t\\t{:.2f} %\".format(\n",
        "        test_acc / test_batches * 100))\n",
        "\n",
        "    if test_acc / test_batches * 100 > 92.5:\n",
        "        print(\"Achievement unlocked: mage 80 lvl\")\n",
        "    else:\n",
        "        print(\"Feed more!\")"
      ],
      "execution_count": 18,
      "outputs": [
        {
          "output_type": "stream",
          "text": [
            "Epoch 1...\n",
            "learning step 0.00043689320388349515\n",
            "Epoch 1 of 25 took 33.962s\n",
            "  train loss:\t\t1.478498\n",
            "  train accuracy:\t\t45.66 %\n",
            "  valid loss:\t\t1.147479\n",
            "  valid accuracy:\t\t59.84 %\n",
            "Epoch 2...\n",
            "learning step 0.00042416815911018943\n",
            "Epoch 2 of 25 took 33.533s\n",
            "  train loss:\t\t0.995246\n",
            "  train accuracy:\t\t64.48 %\n",
            "  valid loss:\t\t0.877695\n",
            "  valid accuracy:\t\t68.91 %\n",
            "Epoch 3...\n",
            "learning step 0.00041181374670892177\n",
            "Epoch 3 of 25 took 33.665s\n",
            "  train loss:\t\t0.794224\n",
            "  train accuracy:\t\t71.96 %\n",
            "  valid loss:\t\t0.743689\n",
            "  valid accuracy:\t\t73.78 %\n",
            "Epoch 4...\n",
            "learning step 0.00039981917156205996\n",
            "Epoch 4 of 25 took 33.537s\n",
            "  train loss:\t\t0.670542\n",
            "  train accuracy:\t\t76.37 %\n",
            "  valid loss:\t\t0.671507\n",
            "  valid accuracy:\t\t76.04 %\n",
            "Epoch 5...\n",
            "learning step 0.00038817395297287375\n",
            "Epoch 5 of 25 took 33.533s\n",
            "  train loss:\t\t0.576623\n",
            "  train accuracy:\t\t79.47 %\n",
            "  valid loss:\t\t0.625165\n",
            "  valid accuracy:\t\t77.46 %\n",
            "Epoch 6...\n",
            "learning step 0.0003768679155076444\n",
            "Epoch 6 of 25 took 33.621s\n",
            "  train loss:\t\t0.509079\n",
            "  train accuracy:\t\t82.08 %\n",
            "  valid loss:\t\t0.600072\n",
            "  valid accuracy:\t\t78.79 %\n",
            "Epoch 7...\n",
            "learning step 0.0003658911801045091\n",
            "Epoch 7 of 25 took 33.560s\n",
            "  train loss:\t\t0.447780\n",
            "  train accuracy:\t\t84.23 %\n",
            "  valid loss:\t\t0.571119\n",
            "  valid accuracy:\t\t79.87 %\n",
            "Epoch 8...\n",
            "learning step 0.0003552341554412709\n",
            "Epoch 8 of 25 took 33.655s\n",
            "  train loss:\t\t0.398790\n",
            "  train accuracy:\t\t85.79 %\n",
            "  valid loss:\t\t0.559531\n",
            "  valid accuracy:\t\t80.47 %\n",
            "Epoch 9...\n",
            "learning step 0.00034488752955463196\n",
            "Epoch 9 of 25 took 33.586s\n",
            "  train loss:\t\t0.358458\n",
            "  train accuracy:\t\t87.44 %\n",
            "  valid loss:\t\t0.563653\n",
            "  valid accuracy:\t\t80.61 %\n",
            "Epoch 10...\n",
            "learning step 0.00033484226170352616\n",
            "Epoch 10 of 25 took 33.531s\n",
            "  train loss:\t\t0.315004\n",
            "  train accuracy:\t\t88.69 %\n",
            "  valid loss:\t\t0.551930\n",
            "  valid accuracy:\t\t81.53 %\n",
            "Epoch 11...\n",
            "learning step 0.00032508957446944286\n",
            "Epoch 11 of 25 took 33.529s\n",
            "  train loss:\t\t0.281815\n",
            "  train accuracy:\t\t89.64 %\n",
            "  valid loss:\t\t0.547914\n",
            "  valid accuracy:\t\t82.21 %\n",
            "Epoch 12...\n",
            "learning step 0.00031562094608683774\n",
            "Epoch 12 of 25 took 33.575s\n",
            "  train loss:\t\t0.255103\n",
            "  train accuracy:\t\t90.77 %\n",
            "  valid loss:\t\t0.559653\n",
            "  valid accuracy:\t\t82.37 %\n",
            "Epoch 13...\n",
            "learning step 0.00030642810299692986\n",
            "Epoch 13 of 25 took 33.637s\n",
            "  train loss:\t\t0.230326\n",
            "  train accuracy:\t\t91.82 %\n",
            "  valid loss:\t\t0.558379\n",
            "  valid accuracy:\t\t82.33 %\n",
            "Epoch 14...\n",
            "learning step 0.0002975030126183785\n",
            "Epoch 14 of 25 took 33.578s\n",
            "  train loss:\t\t0.208568\n",
            "  train accuracy:\t\t92.55 %\n",
            "  valid loss:\t\t0.580850\n",
            "  valid accuracy:\t\t82.21 %\n",
            "Epoch 15...\n",
            "learning step 0.00028883787632852284\n",
            "Epoch 15 of 25 took 33.479s\n",
            "  train loss:\t\t0.195352\n",
            "  train accuracy:\t\t93.25 %\n",
            "  valid loss:\t\t0.574818\n",
            "  valid accuracy:\t\t82.39 %\n",
            "Epoch 16...\n",
            "learning step 0.0002804251226490513\n",
            "Epoch 16 of 25 took 33.561s\n",
            "  train loss:\t\t0.172570\n",
            "  train accuracy:\t\t93.79 %\n",
            "  valid loss:\t\t0.579586\n",
            "  valid accuracy:\t\t81.95 %\n",
            "Epoch 17...\n",
            "learning step 0.0002722574006301469\n",
            "Epoch 17 of 25 took 33.634s\n",
            "  train loss:\t\t0.155800\n",
            "  train accuracy:\t\t94.32 %\n",
            "  valid loss:\t\t0.606714\n",
            "  valid accuracy:\t\t82.09 %\n",
            "Epoch 18...\n",
            "learning step 0.00026432757342732707\n",
            "Epoch 18 of 25 took 33.525s\n",
            "  train loss:\t\t0.145150\n",
            "  train accuracy:\t\t94.98 %\n",
            "  valid loss:\t\t0.609091\n",
            "  valid accuracy:\t\t82.69 %\n",
            "Epoch 19...\n",
            "learning step 0.0002566287120653661\n",
            "Epoch 19 of 25 took 33.602s\n",
            "  train loss:\t\t0.139932\n",
            "  train accuracy:\t\t95.03 %\n",
            "  valid loss:\t\t0.618878\n",
            "  valid accuracy:\t\t82.51 %\n",
            "Epoch 20...\n",
            "learning step 0.0002491540893838506\n",
            "Epoch 20 of 25 took 33.554s\n",
            "  train loss:\t\t0.131081\n",
            "  train accuracy:\t\t95.55 %\n",
            "  valid loss:\t\t0.623497\n",
            "  valid accuracy:\t\t82.57 %\n",
            "Epoch 21...\n",
            "learning step 0.00024189717415907825\n",
            "Epoch 21 of 25 took 33.481s\n",
            "  train loss:\t\t0.120107\n",
            "  train accuracy:\t\t95.80 %\n",
            "  valid loss:\t\t0.643183\n",
            "  valid accuracy:\t\t82.69 %\n",
            "Epoch 22...\n",
            "learning step 0.00023485162539716334\n",
            "Epoch 22 of 25 took 33.538s\n",
            "  train loss:\t\t0.113412\n",
            "  train accuracy:\t\t95.95 %\n",
            "  valid loss:\t\t0.649292\n",
            "  valid accuracy:\t\t82.69 %\n",
            "Epoch 23...\n",
            "learning step 0.00022801128679336246\n",
            "Epoch 23 of 25 took 33.678s\n",
            "  train loss:\t\t0.103375\n",
            "  train accuracy:\t\t96.25 %\n",
            "  valid loss:\t\t0.654432\n",
            "  valid accuracy:\t\t82.49 %\n",
            "Epoch 24...\n",
            "learning step 0.0002213701813527791\n",
            "Epoch 24 of 25 took 33.540s\n",
            "  train loss:\t\t0.096469\n",
            "  train accuracy:\t\t96.50 %\n",
            "  valid loss:\t\t0.663870\n",
            "  valid accuracy:\t\t82.69 %\n",
            "Epoch 25...\n",
            "learning step 0.0002149225061677467\n",
            "Epoch 25 of 25 took 33.640s\n",
            "  train loss:\t\t0.092209\n",
            "  train accuracy:\t\t96.71 %\n",
            "  valid loss:\t\t0.672706\n",
            "  valid accuracy:\t\t82.75 %\n"
          ],
          "name": "stdout"
        },
        {
          "output_type": "display_data",
          "data": {
            "image/png": "[encoded data removed]",
            "text/plain": [
              "<matplotlib.figure.Figure at 0x7f76e3fdcc50>"
            ]
          },
          "metadata": {
            "tags": []
          }
        },
        {
          "output_type": "display_data",
          "data": {
            "image/png": "[encoded data removed]",
            "text/plain": [
              "<matplotlib.figure.Figure at 0x7f76e3ff89b0>"
            ]
          },
          "metadata": {
            "tags": []
          }
        },
        {
          "output_type": "stream",
          "text": [
            "Final results:\n",
            "  test accuracy:\t\t82.40 %\n",
            "Feed more!\n"
          ],
          "name": "stdout"
        }
      ]
    },
    {
      "metadata": {
        "id": "Y48_IPnhD6_w",
        "colab_type": "text"
      },
      "cell_type": "markdown",
      "source": [
        "### Hi, my name is `Eduard Cifarwalker`, and here's my story\n",
        "\n",
        "A long ago in a galaxy far far away, when it was still more than an hour before deadline, i got an idea:\n",
        "\n",
        "#### Copypaste the example from tensorflow MNIST tutorial\n",
        "\n",
        "* firstly **a lot** of pain with determining how TensorFlow idealogically works and a lot of mistakes like 'uninitialized variables'\n",
        "\n",
        "* tried to modify example a bit, that gave me a first prototype. It is not learning at all, score around 15%. Seems like it just ignoring all the progress and starts with 1st epoch. Cons I found that i'm stupid and i'm initializing network parts every time\n",
        "\n",
        "* think that scaling input data may be a good idea\n",
        "\n",
        "* added maxpool layers everywhere. Works worse. After that i've decided to remove some of them, works better, around 55% val score\n",
        "\n",
        "* found that several conv layers works better\n",
        "\n",
        "* playing with conv kernel sizes and number of filters. Seems like large amount of complex filters works slow, but you can just get  the same score with simplier model\n",
        "\n",
        "* found that if conv layers have increasing kernel size, it works better\n",
        "\n",
        "* remembered that some of CS231n lectures told us about batch normalization. Added somewhere, slight increase in val score\n",
        "\n",
        "* came to idea that behaviour 1 FC at the end layer defines is too simple, tried to add one more dense layer with 0.5 dropouts, works much better\n",
        "\n",
        "* playing with regularizaton (trying to add to different places, varying the lambda coeff). Not working at all\n",
        "\n",
        "* playing with activation fucntions (sigm and tanh works worse, elu no difference)\n",
        "\n",
        "* came to idea of adaptive step for Adam Optimizer, gave me additional 0.5% on validation, total 80%\n",
        "\n",
        "* anyway tried to change the structure of network, added more conv layers with simple kernels, that gave me 82%\n",
        "\n",
        "* that time i've totally tired"
      ]
    },
    {
      "metadata": {
        "id": "PcfbRn5uVbRN",
        "colab_type": "code",
        "colab": {
          "autoexec": {
            "startup": false,
            "wait_interval": 0
          }
        }
      },
      "cell_type": "code",
      "source": [
        ""
      ],
      "execution_count": 0,
      "outputs": []
    }
  ]
}