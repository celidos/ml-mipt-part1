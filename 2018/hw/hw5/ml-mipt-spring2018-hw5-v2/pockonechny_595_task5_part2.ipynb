{
 "cells": [
  {
   "cell_type": "code",
   "execution_count": 1,
   "metadata": {
    "collapsed": true
   },
   "outputs": [],
   "source": [
    "import re\n",
    "import numpy as np\n",
    "import pandas as pd\n",
    "\n",
    "from sklearn.linear_model import SGDClassifier\n",
    "from sklearn.svm import SVC, LinearSVC\n",
    "from sklearn.linear_model import LogisticRegression\n",
    "\n",
    "from sklearn.metrics import accuracy_score, roc_auc_score\n",
    "from sklearn.model_selection import cross_val_score, GridSearchCV, ShuffleSplit\n",
    "\n",
    "%matplotlib inline\n",
    "\n",
    "from collections import Counter, defaultdict\n",
    "from copy import deepcopy\n",
    "from operator import itemgetter\n",
    "from random import shuffle\n",
    "\n",
    "import numpy as np\n",
    "import pandas as pd\n",
    "import scipy\n",
    "import seaborn as sns\n",
    "from matplotlib import pylab, gridspec, pyplot as plt\n",
    "from IPython.display import Image\n",
    "import urllib\n",
    "\n",
    "from sklearn.metrics import accuracy_score\n",
    "from sklearn import metrics, neighbors, dummy, preprocessing, svm\n",
    "from sklearn.model_selection import train_test_split, GridSearchCV\n",
    "from sklearn import linear_model\n",
    "from sklearn.preprocessing import OneHotEncoder\n",
    "\n",
    "from tqdm import tqdm_notebook as tqdm\n",
    "\n",
    "import matplotlib\n",
    "%matplotlib inline"
   ]
  },
  {
   "cell_type": "markdown",
   "metadata": {},
   "source": [
    "http://scikit-learn.org/stable/modules/feature_extraction.html"
   ]
  },
  {
   "cell_type": "markdown",
   "metadata": {},
   "source": [
    "# Чтение данных"
   ]
  },
  {
   "cell_type": "code",
   "execution_count": 2,
   "metadata": {},
   "outputs": [
    {
     "data": {
      "text/plain": [
       "((30000, 4), (10000, 3))"
      ]
     },
     "execution_count": 2,
     "metadata": {},
     "output_type": "execute_result"
    }
   ],
   "source": [
    "train = pd.read_csv('train.csv', encoding='utf_8')\n",
    "test = pd.read_csv('test.csv')\n",
    "\n",
    "train.shape, test.shape"
   ]
  },
  {
   "cell_type": "code",
   "execution_count": 3,
   "metadata": {},
   "outputs": [
    {
     "data": {
      "text/plain": [
       "{'anger',\n",
       " 'boredom',\n",
       " 'empty',\n",
       " 'enthusiasm',\n",
       " 'fun',\n",
       " 'happiness',\n",
       " 'hate',\n",
       " 'love',\n",
       " 'neutral',\n",
       " 'relief',\n",
       " 'sadness',\n",
       " 'surprise',\n",
       " 'worry'}"
      ]
     },
     "execution_count": 3,
     "metadata": {},
     "output_type": "execute_result"
    }
   ],
   "source": [
    "set(train['sentiment'])"
   ]
  },
  {
   "cell_type": "code",
   "execution_count": 4,
   "metadata": {
    "collapsed": true
   },
   "outputs": [],
   "source": [
    "sent_dict = {'neutral'    : 0,\n",
    "             'anger'      : 1,\n",
    "             'boredom'    : 2,\n",
    "             'empty'      : 3,\n",
    "             'enthusiasm' : 4,\n",
    "             'fun'        : 5,\n",
    "             'happiness'  : 6,\n",
    "             'hate'       : 7,\n",
    "             'love'       : 8,\n",
    "             'relief'     : 9,\n",
    "             'sadness'    : 10,\n",
    "             'surprise'   : 11,\n",
    "             'worry'      : 12}\n",
    "sent_dict_back = {v: k for k, v in sent_dict.items()}"
   ]
  },
  {
   "cell_type": "code",
   "execution_count": 5,
   "metadata": {
    "collapsed": true
   },
   "outputs": [],
   "source": [
    "train['sent_enc'] = train['sentiment'].replace(sent_dict)"
   ]
  },
  {
   "cell_type": "code",
   "execution_count": 6,
   "metadata": {},
   "outputs": [
    {
     "data": {
      "text/html": [
       "<div>\n",
       "<style>\n",
       "    .dataframe thead tr:only-child th {\n",
       "        text-align: right;\n",
       "    }\n",
       "\n",
       "    .dataframe thead th {\n",
       "        text-align: left;\n",
       "    }\n",
       "\n",
       "    .dataframe tbody tr th {\n",
       "        vertical-align: top;\n",
       "    }\n",
       "</style>\n",
       "<table border=\"1\" class=\"dataframe\">\n",
       "  <thead>\n",
       "    <tr style=\"text-align: right;\">\n",
       "      <th></th>\n",
       "      <th>Unnamed: 0</th>\n",
       "      <th>author</th>\n",
       "      <th>content</th>\n",
       "      <th>sentiment</th>\n",
       "      <th>sent_enc</th>\n",
       "    </tr>\n",
       "  </thead>\n",
       "  <tbody>\n",
       "    <tr>\n",
       "      <th>12314</th>\n",
       "      <td>17314</td>\n",
       "      <td>itchyblood</td>\n",
       "      <td>Why is no one online?</td>\n",
       "      <td>surprise</td>\n",
       "      <td>11</td>\n",
       "    </tr>\n",
       "    <tr>\n",
       "      <th>13075</th>\n",
       "      <td>9725</td>\n",
       "      <td>tjbladez</td>\n",
       "      <td>pulled from interesting meeting to an urgent s...</td>\n",
       "      <td>surprise</td>\n",
       "      <td>11</td>\n",
       "    </tr>\n",
       "    <tr>\n",
       "      <th>13905</th>\n",
       "      <td>33518</td>\n",
       "      <td>LaBeautifulMess</td>\n",
       "      <td>Happy Mother's Day to everyone's mothers, moth...</td>\n",
       "      <td>love</td>\n",
       "      <td>8</td>\n",
       "    </tr>\n",
       "    <tr>\n",
       "      <th>25520</th>\n",
       "      <td>9460</td>\n",
       "      <td>scamby1</td>\n",
       "      <td>Car shopping with kacy yay</td>\n",
       "      <td>happiness</td>\n",
       "      <td>6</td>\n",
       "    </tr>\n",
       "    <tr>\n",
       "      <th>7679</th>\n",
       "      <td>10001</td>\n",
       "      <td>Lulacumplido</td>\n",
       "      <td>ahhhh, very sad</td>\n",
       "      <td>worry</td>\n",
       "      <td>12</td>\n",
       "    </tr>\n",
       "    <tr>\n",
       "      <th>22789</th>\n",
       "      <td>17358</td>\n",
       "      <td>Aprilmclean</td>\n",
       "      <td>@Karetron I KNOW!!!! Its all stormy outside.. ...</td>\n",
       "      <td>love</td>\n",
       "      <td>8</td>\n",
       "    </tr>\n",
       "    <tr>\n",
       "      <th>20120</th>\n",
       "      <td>10077</td>\n",
       "      <td>marktrout</td>\n",
       "      <td>is in mourning that he is having to miss the h...</td>\n",
       "      <td>sadness</td>\n",
       "      <td>10</td>\n",
       "    </tr>\n",
       "    <tr>\n",
       "      <th>13019</th>\n",
       "      <td>23739</td>\n",
       "      <td>chaosbot</td>\n",
       "      <td>Not to worry, noone got that one. Next questio...</td>\n",
       "      <td>surprise</td>\n",
       "      <td>11</td>\n",
       "    </tr>\n",
       "    <tr>\n",
       "      <th>807</th>\n",
       "      <td>28354</td>\n",
       "      <td>hayesdev</td>\n",
       "      <td>TextMate crashed for the first time in 3 month...</td>\n",
       "      <td>relief</td>\n",
       "      <td>9</td>\n",
       "    </tr>\n",
       "    <tr>\n",
       "      <th>13004</th>\n",
       "      <td>31938</td>\n",
       "      <td>rrbaker</td>\n",
       "      <td>@eclip5e Good lord, man.   I recommend the Dar...</td>\n",
       "      <td>worry</td>\n",
       "      <td>12</td>\n",
       "    </tr>\n",
       "    <tr>\n",
       "      <th>9845</th>\n",
       "      <td>4714</td>\n",
       "      <td>JackieRoe</td>\n",
       "      <td>@Jackobeanz I'm blue.  In other news, you will...</td>\n",
       "      <td>love</td>\n",
       "      <td>8</td>\n",
       "    </tr>\n",
       "    <tr>\n",
       "      <th>5364</th>\n",
       "      <td>22932</td>\n",
       "      <td>DeeVAS</td>\n",
       "      <td>@emilyrobe Good to see you haven't lost your s...</td>\n",
       "      <td>love</td>\n",
       "      <td>8</td>\n",
       "    </tr>\n",
       "    <tr>\n",
       "      <th>16647</th>\n",
       "      <td>30534</td>\n",
       "      <td>sujal</td>\n",
       "      <td>@scarybunnies Abrams has his quirks for sure. ...</td>\n",
       "      <td>worry</td>\n",
       "      <td>12</td>\n",
       "    </tr>\n",
       "    <tr>\n",
       "      <th>24205</th>\n",
       "      <td>21584</td>\n",
       "      <td>Sillypea</td>\n",
       "      <td>@Harvstrofsorrow i still like coldplay i just ...</td>\n",
       "      <td>neutral</td>\n",
       "      <td>0</td>\n",
       "    </tr>\n",
       "    <tr>\n",
       "      <th>13693</th>\n",
       "      <td>7765</td>\n",
       "      <td>RoseTown</td>\n",
       "      <td>Just discovered a painful sunburn on my right ...</td>\n",
       "      <td>worry</td>\n",
       "      <td>12</td>\n",
       "    </tr>\n",
       "  </tbody>\n",
       "</table>\n",
       "</div>"
      ],
      "text/plain": [
       "       Unnamed: 0           author  \\\n",
       "12314       17314       itchyblood   \n",
       "13075        9725         tjbladez   \n",
       "13905       33518  LaBeautifulMess   \n",
       "25520        9460          scamby1   \n",
       "7679        10001     Lulacumplido   \n",
       "22789       17358      Aprilmclean   \n",
       "20120       10077        marktrout   \n",
       "13019       23739         chaosbot   \n",
       "807         28354         hayesdev   \n",
       "13004       31938          rrbaker   \n",
       "9845         4714        JackieRoe   \n",
       "5364        22932           DeeVAS   \n",
       "16647       30534            sujal   \n",
       "24205       21584         Sillypea   \n",
       "13693        7765         RoseTown   \n",
       "\n",
       "                                                 content  sentiment  sent_enc  \n",
       "12314                              Why is no one online?   surprise        11  \n",
       "13075  pulled from interesting meeting to an urgent s...   surprise        11  \n",
       "13905  Happy Mother's Day to everyone's mothers, moth...       love         8  \n",
       "25520                         Car shopping with kacy yay  happiness         6  \n",
       "7679                                     ahhhh, very sad      worry        12  \n",
       "22789  @Karetron I KNOW!!!! Its all stormy outside.. ...       love         8  \n",
       "20120  is in mourning that he is having to miss the h...    sadness        10  \n",
       "13019  Not to worry, noone got that one. Next questio...   surprise        11  \n",
       "807    TextMate crashed for the first time in 3 month...     relief         9  \n",
       "13004  @eclip5e Good lord, man.   I recommend the Dar...      worry        12  \n",
       "9845   @Jackobeanz I'm blue.  In other news, you will...       love         8  \n",
       "5364   @emilyrobe Good to see you haven't lost your s...       love         8  \n",
       "16647  @scarybunnies Abrams has his quirks for sure. ...      worry        12  \n",
       "24205  @Harvstrofsorrow i still like coldplay i just ...    neutral         0  \n",
       "13693  Just discovered a painful sunburn on my right ...      worry        12  "
      ]
     },
     "execution_count": 6,
     "metadata": {},
     "output_type": "execute_result"
    }
   ],
   "source": [
    "train.sample(15)"
   ]
  },
  {
   "cell_type": "code",
   "execution_count": 7,
   "metadata": {},
   "outputs": [
    {
     "data": {
      "text/plain": [
       "26148"
      ]
     },
     "execution_count": 7,
     "metadata": {},
     "output_type": "execute_result"
    }
   ],
   "source": [
    "len(set(train['author']))"
   ]
  },
  {
   "cell_type": "code",
   "execution_count": 8,
   "metadata": {},
   "outputs": [
    {
     "data": {
      "text/html": [
       "<div>\n",
       "<style>\n",
       "    .dataframe thead tr:only-child th {\n",
       "        text-align: right;\n",
       "    }\n",
       "\n",
       "    .dataframe thead th {\n",
       "        text-align: left;\n",
       "    }\n",
       "\n",
       "    .dataframe tbody tr th {\n",
       "        vertical-align: top;\n",
       "    }\n",
       "</style>\n",
       "<table border=\"1\" class=\"dataframe\">\n",
       "  <thead>\n",
       "    <tr style=\"text-align: right;\">\n",
       "      <th></th>\n",
       "      <th>id</th>\n",
       "      <th>author</th>\n",
       "      <th>content</th>\n",
       "    </tr>\n",
       "  </thead>\n",
       "  <tbody>\n",
       "    <tr>\n",
       "      <th>2802</th>\n",
       "      <td>24867</td>\n",
       "      <td>babybucket</td>\n",
       "      <td>@Runningfrommich, &amp;lt;3 x9999999.</td>\n",
       "    </tr>\n",
       "    <tr>\n",
       "      <th>5922</th>\n",
       "      <td>6529</td>\n",
       "      <td>Explosivpotato</td>\n",
       "      <td>Smart cars are the most worthless cars ever ma...</td>\n",
       "    </tr>\n",
       "    <tr>\n",
       "      <th>3047</th>\n",
       "      <td>2135</td>\n",
       "      <td>anthraxmoh</td>\n",
       "      <td>My stomach is all EXPLODE from the wendys  why...</td>\n",
       "    </tr>\n",
       "    <tr>\n",
       "      <th>9815</th>\n",
       "      <td>38625</td>\n",
       "      <td>natroksjayz</td>\n",
       "      <td>so this my last week of school then finals yesss</td>\n",
       "    </tr>\n",
       "    <tr>\n",
       "      <th>7830</th>\n",
       "      <td>35741</td>\n",
       "      <td>unitechy</td>\n",
       "      <td>@adityamishra yeah next time</td>\n",
       "    </tr>\n",
       "    <tr>\n",
       "      <th>8595</th>\n",
       "      <td>353</td>\n",
       "      <td>Fredrikkk</td>\n",
       "      <td>english class! working on interactive orals</td>\n",
       "    </tr>\n",
       "    <tr>\n",
       "      <th>994</th>\n",
       "      <td>38260</td>\n",
       "      <td>dibbbles</td>\n",
       "      <td>@Parsnipzilla ohtays, it all makes sense now.....</td>\n",
       "    </tr>\n",
       "    <tr>\n",
       "      <th>895</th>\n",
       "      <td>39139</td>\n",
       "      <td>pr0mythius</td>\n",
       "      <td>if you hit a car .. u should leave a note http...</td>\n",
       "    </tr>\n",
       "    <tr>\n",
       "      <th>9930</th>\n",
       "      <td>35403</td>\n",
       "      <td>Obsessee</td>\n",
       "      <td>@oscarrplz thanks oscc  i have been changing i...</td>\n",
       "    </tr>\n",
       "    <tr>\n",
       "      <th>6033</th>\n",
       "      <td>3211</td>\n",
       "      <td>quickquacker</td>\n",
       "      <td>my littelist fish, udon, is dearly departed</td>\n",
       "    </tr>\n",
       "    <tr>\n",
       "      <th>2551</th>\n",
       "      <td>3643</td>\n",
       "      <td>MissBoo1</td>\n",
       "      <td>Ive finished 4th year!!! Argh Uni is going soo...</td>\n",
       "    </tr>\n",
       "    <tr>\n",
       "      <th>4128</th>\n",
       "      <td>5925</td>\n",
       "      <td>tinampf</td>\n",
       "      <td>my shoes hurt my feet</td>\n",
       "    </tr>\n",
       "    <tr>\n",
       "      <th>3106</th>\n",
       "      <td>5598</td>\n",
       "      <td>bryanpayne</td>\n",
       "      <td>Back to the salt mine for my one day work week...</td>\n",
       "    </tr>\n",
       "    <tr>\n",
       "      <th>4025</th>\n",
       "      <td>26488</td>\n",
       "      <td>daniellecotton</td>\n",
       "      <td>@sueyoungmedia Thanks so much!</td>\n",
       "    </tr>\n",
       "    <tr>\n",
       "      <th>6415</th>\n",
       "      <td>39590</td>\n",
       "      <td>PeaceDiva</td>\n",
       "      <td>@Mariment @macangel @VisionaryEyes Thanks so m...</td>\n",
       "    </tr>\n",
       "  </tbody>\n",
       "</table>\n",
       "</div>"
      ],
      "text/plain": [
       "         id          author                                            content\n",
       "2802  24867      babybucket                  @Runningfrommich, &lt;3 x9999999.\n",
       "5922   6529  Explosivpotato  Smart cars are the most worthless cars ever ma...\n",
       "3047   2135      anthraxmoh  My stomach is all EXPLODE from the wendys  why...\n",
       "9815  38625     natroksjayz   so this my last week of school then finals yesss\n",
       "7830  35741        unitechy                       @adityamishra yeah next time\n",
       "8595    353       Fredrikkk        english class! working on interactive orals\n",
       "994   38260        dibbbles  @Parsnipzilla ohtays, it all makes sense now.....\n",
       "895   39139      pr0mythius  if you hit a car .. u should leave a note http...\n",
       "9930  35403        Obsessee  @oscarrplz thanks oscc  i have been changing i...\n",
       "6033   3211    quickquacker        my littelist fish, udon, is dearly departed\n",
       "2551   3643        MissBoo1  Ive finished 4th year!!! Argh Uni is going soo...\n",
       "4128   5925         tinampf                              my shoes hurt my feet\n",
       "3106   5598      bryanpayne  Back to the salt mine for my one day work week...\n",
       "4025  26488  daniellecotton                     @sueyoungmedia Thanks so much!\n",
       "6415  39590       PeaceDiva  @Mariment @macangel @VisionaryEyes Thanks so m..."
      ]
     },
     "execution_count": 8,
     "metadata": {},
     "output_type": "execute_result"
    }
   ],
   "source": [
    "test.sample(15)"
   ]
  },
  {
   "cell_type": "code",
   "execution_count": 9,
   "metadata": {
    "collapsed": true
   },
   "outputs": [],
   "source": [
    "def transm(x):\n",
    "        \n",
    "    x = list(filter(None, x.split(' ')))\n",
    "    x = list(filter(lambda word: word[0] != '@', x))\n",
    "    x = list(filter(lambda word: word[:4] != 'http', x))\n",
    "    x = list(filter(lambda word: len(word) >= 1, x))\n",
    "    x = [''.join([i for i in word]).lower() for word in x]\n",
    "    x = list(filter(None, x))\n",
    "           \n",
    "    return ' '.join(x)"
   ]
  },
  {
   "cell_type": "code",
   "execution_count": 10,
   "metadata": {
    "collapsed": true
   },
   "outputs": [],
   "source": [
    "happy_words = set([])#'yes', 'ok', 'good', 'best', 'well', 'laughing', 'wonderful', 'very', ' too', 'haha',\n",
    "#                  'ha', 'hah', 'hahaha', 'happy', 'really', 'realy', 'xD', ':)', ':-)', 'x)', '8D', ':D',\n",
    "#                  'nice', 'thank', 'laugh', 'laughing', 'laughed', 'surprise', 'luck', 'surprise', 'great',\n",
    "#                  'crazy', 'totally', 'lol', ' hi', 'hello', 'much', ' so', 'ohh', 'awesome', 'cool',\n",
    "#                  'love', 'like', ';3', ':3', 'smile', 'yum', 'such', 'at all', 'lala', 'joy', ' up', 'cheer',\n",
    "#                   'better', 'huh', 'feel'])\n",
    "\n",
    "sadness_words = set([])#'down', 'please', 'sorry', 'rip', 'ugh', 'suck', 'bored', 'wanna', 'poor', 'shame', \n",
    "#                     'bad', 'sad', 'unhappy', 'study', 'teach', 'fall', 'off', 'fail', ' um',\n",
    "#                    'why', \"don't\", ' no', 'fuck', 'miss', 'hate', 'hmm', 'wish', 'tire', 'terrible', 'awful',\n",
    "#                    'hurt', 'didn', 'doesn', 'cry', 'cri', 'lost', 'nothin', 'lonely', 'alone', 'not', 'last',\n",
    "#                     'slow', ' bor', 'stupid', 'ugly', 'bad', ' die', 'cant', 'already', 'but', 'busy', 'dead', \n",
    "#                    'sick', ' aww', 'exam', ' tir', 'less', ' out', 'anymore', 'shit', 'terrible', 'annoy', \n",
    "#                     'leave'])\n",
    "\n",
    "fun_words = set([])#'hey', 'yup', 'waaah'])"
   ]
  },
  {
   "cell_type": "code",
   "execution_count": 11,
   "metadata": {},
   "outputs": [
    {
     "data": {
      "text/plain": [
       "['@caramp lol you saw where I was going with that...both of my last names are to common nothing special on me',\n",
       " '@google aahh google, you never fail to make me smile http://twitpic.com/4w9rp (via @richiban)',\n",
       " 'I want to go to Universal too!',\n",
       " \"&quot;Thick as pig shit - went to Oxford&quot; - Helena's (Cantab) friend's description of me to her boyfriend, yesterday...\",\n",
       " \"@alivicwil She's so funny!!! I wish she were my grandma\",\n",
       " \"@merdujapon Really all that? I'll look for it and will report back\",\n",
       " 'Hey @robluketic Bye Bye  was fun too   (robluketic live &gt; http://ustre.am/2w5v)',\n",
       " '@ajaimk Also, HAPPY STAR WARS DAY!!!',\n",
       " '@euripidean bank holiday is going well, had a great band practice so still on a buzz',\n",
       " '08.05.09 partying at the Pineforest  http://tinyurl.com/ojugsb',\n",
       " '@CeesDope_  ahhhhaaa bangbros.com! psshh nigga its all about onionbooty.com',\n",
       " \"@BrisvegasLukass yes I do! I'll try posting some pics when I can\",\n",
       " \"@PaperCakes lol, I haven't made anything yet, I've just spread all my supplies out over the dining room table\",\n",
       " '@JESS_TRUESDALE lmao! you a mess.  Im gonna be in ATL in a few weeks',\n",
       " '@MichalkaAlyson I spell my name alyson too! Aly for short! We spell it the best']"
      ]
     },
     "execution_count": 11,
     "metadata": {},
     "output_type": "execute_result"
    }
   ],
   "source": [
    "list(train[train['sentiment'] == 'fun']['content'].sample(15))"
   ]
  },
  {
   "cell_type": "code",
   "execution_count": 12,
   "metadata": {
    "collapsed": true
   },
   "outputs": [],
   "source": [
    "def transm_emoticon(x):\n",
    "    \n",
    "    was_exclamation = 0\n",
    "    was_question = 0\n",
    "    was_dot = 0\n",
    "    was_comma = 0\n",
    "    was_appeal = 0\n",
    "    was_brace1 = 0\n",
    "    was_brace2 = 0\n",
    "    upper_cased = 0\n",
    "    \n",
    "    for letter in x:\n",
    "        if letter == '?':\n",
    "            was_question += 1\n",
    "        if letter == '!':\n",
    "            was_exclamation += 1\n",
    "        if letter == '.':\n",
    "            was_dot += 1\n",
    "        if letter == ',':\n",
    "            was_comma += 1\n",
    "        if letter == '@':\n",
    "            was_appeal += 1\n",
    "        if letter == '(':\n",
    "            was_brace1 += 1\n",
    "        if letter == ')':\n",
    "            was_brace2 += 1\n",
    "        if letter.isupper():\n",
    "            upper_cased += 1\n",
    "         \n",
    "    ans = dict()\n",
    "  \n",
    "    x = list(filter(None, x.split(' ')))\n",
    "    x = list(filter(lambda word: word[0] != '@', x))\n",
    "    x = list(filter(lambda word: word[:4] != 'http', x))\n",
    "    \n",
    "    x = list(filter(lambda word: len(word) >= 1, x))\n",
    "    x = [''.join([i for i in word]).lower() for word in x]\n",
    "    x = list(filter(None, x))\n",
    "    \n",
    "    xx = ' '.join(x)\n",
    "    \n",
    "    for happy_word in happy_words:\n",
    "        if xx.find(happy_word) != -1:\n",
    "            ans['happiness_' + happy_word] = 1\n",
    "            \n",
    "    for sad_word in sadness_words:\n",
    "        if xx.find(sad_word) != -1:\n",
    "            ans['sadness_' + sad_word] = 1\n",
    "    \n",
    "    for fun_word in fun_words:\n",
    "        if xx.find(fun_word) != -1:\n",
    "            ans['sadness_' + fun_word] = 1\n",
    "    \n",
    "    ans['???'] = was_question\n",
    "    ans['!!!'] = was_exclamation\n",
    "    ans['...'] = was_dot\n",
    "    ans[',,,'] = was_comma\n",
    "    ans['@@@'] = was_appeal\n",
    "    ans['((('] = was_brace1\n",
    "    ans[')))'] = was_brace2\n",
    "    ans['#upper_cased'] = upper_cased / (0.5 + len(xx))\n",
    "    \n",
    "    ans['#wordcount'] = len(x)\n",
    "    ans['#lettercount'] = len(xx)\n",
    "    \n",
    "    return ans"
   ]
  },
  {
   "cell_type": "code",
   "execution_count": 13,
   "metadata": {},
   "outputs": [
    {
     "name": "stdout",
     "output_type": "stream",
     "text": [
      "@jishanvn yï¿½n tï¿½m, sang n?m s? th?y ti?t m?c Tr?n tinh twitter tr? l?i Lï¿½ Thï¿½ng , Th?ch Sanh nh? lï¿½m quiz mï¿½ c??i ???c cï¿½ng chï¿½a\n",
      "@enjoymore Your cave? Does it have an espresso machine?\n",
      "Hey! Im here, thank you 123 hello!\n",
      "http://twitpic.com/4jacy - the lovelies ms @angieange rane &amp; i\n"
     ]
    }
   ],
   "source": [
    "phrase = train['content'][5471]\n",
    "print(phrase)\n",
    "phrase2 = train['content'][25472]\n",
    "print(phrase2)\n",
    "phrase3 = 'Hey! I''m here, thank you 123 hello!'\n",
    "print(phrase3)\n",
    "phrase4 = test['content'][4658]\n",
    "print(phrase4)"
   ]
  },
  {
   "cell_type": "code",
   "execution_count": 14,
   "metadata": {},
   "outputs": [
    {
     "data": {
      "text/plain": [
       "{'!!!': 2,\n",
       " '#lettercount': 34,\n",
       " '#upper_cased': 0.2028985507246377,\n",
       " '#wordcount': 7,\n",
       " '(((': 0,\n",
       " ')))': 0,\n",
       " ',,,': 1,\n",
       " '...': 0,\n",
       " '???': 0,\n",
       " '@@@': 0}"
      ]
     },
     "execution_count": 14,
     "metadata": {},
     "output_type": "execute_result"
    }
   ],
   "source": [
    "phrase = 'Hey! I''M HERE, thank you 123 hello!'\n",
    "transm_emoticon(phrase)"
   ]
  },
  {
   "cell_type": "code",
   "execution_count": 15,
   "metadata": {
    "collapsed": true
   },
   "outputs": [],
   "source": [
    "from sklearn.feature_extraction.text import CountVectorizer\n",
    "from sklearn.feature_extraction.text import TfidfVectorizer"
   ]
  },
  {
   "cell_type": "code",
   "execution_count": 16,
   "metadata": {},
   "outputs": [
    {
     "data": {
      "text/plain": [
       "CountVectorizer(analyzer='word', binary=False, decode_error='strict',\n",
       "        dtype=<class 'numpy.int64'>, encoding='utf-8', input='content',\n",
       "        lowercase=True, max_df=1.0, max_features=None, min_df=1,\n",
       "        ngram_range=(1, 1), preprocessor=None, stop_words=None,\n",
       "        strip_accents=None, token_pattern='(?u)\\\\b\\\\w\\\\w+\\\\b',\n",
       "        tokenizer=None, vocabulary=None)"
      ]
     },
     "execution_count": 16,
     "metadata": {},
     "output_type": "execute_result"
    }
   ],
   "source": [
    "vectorizer = CountVectorizer()\n",
    "vectorizer "
   ]
  },
  {
   "cell_type": "code",
   "execution_count": 17,
   "metadata": {
    "collapsed": true
   },
   "outputs": [],
   "source": [
    "train_corpus = list(train['content'].apply(transm))\n",
    "test_corpus  = list(test ['content'].apply(transm))"
   ]
  },
  {
   "cell_type": "code",
   "execution_count": 24,
   "metadata": {},
   "outputs": [
    {
     "data": {
      "text/plain": [
       "[\"check out the conchords 'business time'\",\n",
       " 'i know, but i wanna finish bsg first',\n",
       " 'hey im back i replyed xxx',\n",
       " 'those dog pic had me rolf! the one with the snow stuck too it has that &quot;if looks could kill look&quot; way funny',\n",
       " \"i have the best bestfriend in the whole world .. my mother's day present = ambien, klonopin and a quarter! woohoo! smh...\",\n",
       " 'yess! talking 2 a hott guy! happy ass fuk!',\n",
       " 'back at work',\n",
       " \"woot! lol it's gonna be hard to send this one back\",\n",
       " 'one of my besties is moving away',\n",
       " \"i can't believe clinton and bush were both here, doing a seminar together and i did not go\"]"
      ]
     },
     "execution_count": 24,
     "metadata": {},
     "output_type": "execute_result"
    }
   ],
   "source": [
    "train_corpus[700:710]"
   ]
  },
  {
   "cell_type": "code",
   "execution_count": null,
   "metadata": {
    "collapsed": true
   },
   "outputs": [],
   "source": []
  },
  {
   "cell_type": "code",
   "execution_count": 25,
   "metadata": {},
   "outputs": [
    {
     "data": {
      "text/plain": [
       "['good morning',\n",
       " \"i just put my computer up on craigslist. i've had the same case, monitor, and speakers for over 5 years.\",\n",
       " 'in ten minutes shopping demi lovato-back around demi lovato-behind enemy lines have you all seen the titanic 2 trailer? its really good!',\n",
       " 'from twitterberry moved to ubertwitter - suffered from bb cache errors',\n",
       " 'tear*',\n",
       " 'ps... i got ben button today... completes my best picture noms....got all 5 now. it was a great year!!',\n",
       " 'just fell asleep for 2 &amp; 1/2 hours so missed both chances for first-look hollyoaks, ugh',\n",
       " 'thank ye, vaneta. much appreciated',\n",
       " 'oh noes!! melted ice cream = do not want.',\n",
       " 'i just had pasta from pizzahut.']"
      ]
     },
     "execution_count": 25,
     "metadata": {},
     "output_type": "execute_result"
    }
   ],
   "source": [
    "test_corpus[:10]"
   ]
  },
  {
   "cell_type": "code",
   "execution_count": 26,
   "metadata": {
    "collapsed": true
   },
   "outputs": [],
   "source": [
    "vectorizer = vectorizer.fit(train_corpus)\n",
    "X_train_counted = vectorizer.transform(train_corpus)\n",
    "X_test_counted  = vectorizer.transform(test_corpus)"
   ]
  },
  {
   "cell_type": "code",
   "execution_count": 27,
   "metadata": {
    "collapsed": true
   },
   "outputs": [],
   "source": [
    "tfidf_vect = TfidfVectorizer(smooth_idf=True, min_df=0.000005)\n",
    "tfidf_vect = tfidf_vect.fit(train_corpus)"
   ]
  },
  {
   "cell_type": "code",
   "execution_count": 28,
   "metadata": {
    "collapsed": true
   },
   "outputs": [],
   "source": [
    "X_train = X_train_counted\n",
    "# X_train = tfidf_vect.transform(train_corpus)\n",
    "X_test  = X_test_counted\n",
    "# X_test  = tfidf_vect.transform(test_corpus)"
   ]
  },
  {
   "cell_type": "code",
   "execution_count": 29,
   "metadata": {},
   "outputs": [
    {
     "data": {
      "text/plain": [
       "((30000, 25685), (10000, 25685))"
      ]
     },
     "execution_count": 29,
     "metadata": {},
     "output_type": "execute_result"
    }
   ],
   "source": [
    "X_train.shape, X_test.shape"
   ]
  },
  {
   "cell_type": "code",
   "execution_count": 30,
   "metadata": {},
   "outputs": [
    {
     "data": {
      "text/html": [
       "<div>\n",
       "<style>\n",
       "    .dataframe thead tr:only-child th {\n",
       "        text-align: right;\n",
       "    }\n",
       "\n",
       "    .dataframe thead th {\n",
       "        text-align: left;\n",
       "    }\n",
       "\n",
       "    .dataframe tbody tr th {\n",
       "        vertical-align: top;\n",
       "    }\n",
       "</style>\n",
       "<table border=\"1\" class=\"dataframe\">\n",
       "  <thead>\n",
       "    <tr style=\"text-align: right;\">\n",
       "      <th></th>\n",
       "      <th>!!!</th>\n",
       "      <th>#lettercount</th>\n",
       "      <th>#upper_cased</th>\n",
       "      <th>#wordcount</th>\n",
       "      <th>(((</th>\n",
       "      <th>)))</th>\n",
       "      <th>,,,</th>\n",
       "      <th>...</th>\n",
       "      <th>???</th>\n",
       "      <th>@@@</th>\n",
       "    </tr>\n",
       "  </thead>\n",
       "  <tbody>\n",
       "    <tr>\n",
       "      <th>0</th>\n",
       "      <td>0</td>\n",
       "      <td>93</td>\n",
       "      <td>0.000000</td>\n",
       "      <td>18</td>\n",
       "      <td>0</td>\n",
       "      <td>0</td>\n",
       "      <td>3</td>\n",
       "      <td>0</td>\n",
       "      <td>0</td>\n",
       "      <td>1</td>\n",
       "    </tr>\n",
       "    <tr>\n",
       "      <th>1</th>\n",
       "      <td>1</td>\n",
       "      <td>86</td>\n",
       "      <td>0.034682</td>\n",
       "      <td>18</td>\n",
       "      <td>0</td>\n",
       "      <td>0</td>\n",
       "      <td>1</td>\n",
       "      <td>1</td>\n",
       "      <td>0</td>\n",
       "      <td>1</td>\n",
       "    </tr>\n",
       "    <tr>\n",
       "      <th>2</th>\n",
       "      <td>0</td>\n",
       "      <td>10</td>\n",
       "      <td>0.000000</td>\n",
       "      <td>2</td>\n",
       "      <td>0</td>\n",
       "      <td>0</td>\n",
       "      <td>0</td>\n",
       "      <td>0</td>\n",
       "      <td>2</td>\n",
       "      <td>1</td>\n",
       "    </tr>\n",
       "    <tr>\n",
       "      <th>3</th>\n",
       "      <td>1</td>\n",
       "      <td>132</td>\n",
       "      <td>0.067925</td>\n",
       "      <td>26</td>\n",
       "      <td>0</td>\n",
       "      <td>0</td>\n",
       "      <td>1</td>\n",
       "      <td>1</td>\n",
       "      <td>2</td>\n",
       "      <td>0</td>\n",
       "    </tr>\n",
       "    <tr>\n",
       "      <th>4</th>\n",
       "      <td>0</td>\n",
       "      <td>61</td>\n",
       "      <td>0.065041</td>\n",
       "      <td>11</td>\n",
       "      <td>0</td>\n",
       "      <td>0</td>\n",
       "      <td>1</td>\n",
       "      <td>2</td>\n",
       "      <td>0</td>\n",
       "      <td>0</td>\n",
       "    </tr>\n",
       "  </tbody>\n",
       "</table>\n",
       "</div>"
      ],
      "text/plain": [
       "   !!!  #lettercount  #upper_cased  #wordcount  (((  )))  ,,,  ...  ???  @@@\n",
       "0    0            93      0.000000          18    0    0    3    0    0    1\n",
       "1    1            86      0.034682          18    0    0    1    1    0    1\n",
       "2    0            10      0.000000           2    0    0    0    0    2    1\n",
       "3    1           132      0.067925          26    0    0    1    1    2    0\n",
       "4    0            61      0.065041          11    0    0    1    2    0    0"
      ]
     },
     "execution_count": 30,
     "metadata": {},
     "output_type": "execute_result"
    }
   ],
   "source": [
    "train_custom = pd.DataFrame(list(train['content'].apply(transm_emoticon))).fillna(0)\n",
    "train_custom.head()"
   ]
  },
  {
   "cell_type": "code",
   "execution_count": 31,
   "metadata": {},
   "outputs": [
    {
     "data": {
      "text/html": [
       "<div>\n",
       "<style>\n",
       "    .dataframe thead tr:only-child th {\n",
       "        text-align: right;\n",
       "    }\n",
       "\n",
       "    .dataframe thead th {\n",
       "        text-align: left;\n",
       "    }\n",
       "\n",
       "    .dataframe tbody tr th {\n",
       "        vertical-align: top;\n",
       "    }\n",
       "</style>\n",
       "<table border=\"1\" class=\"dataframe\">\n",
       "  <thead>\n",
       "    <tr style=\"text-align: right;\">\n",
       "      <th></th>\n",
       "      <th>!!!</th>\n",
       "      <th>#lettercount</th>\n",
       "      <th>#upper_cased</th>\n",
       "      <th>#wordcount</th>\n",
       "      <th>(((</th>\n",
       "      <th>)))</th>\n",
       "      <th>,,,</th>\n",
       "      <th>...</th>\n",
       "      <th>???</th>\n",
       "      <th>@@@</th>\n",
       "    </tr>\n",
       "  </thead>\n",
       "  <tbody>\n",
       "    <tr>\n",
       "      <th>0</th>\n",
       "      <td>0</td>\n",
       "      <td>12</td>\n",
       "      <td>0.160000</td>\n",
       "      <td>2</td>\n",
       "      <td>0</td>\n",
       "      <td>0</td>\n",
       "      <td>0</td>\n",
       "      <td>0</td>\n",
       "      <td>0</td>\n",
       "      <td>0</td>\n",
       "    </tr>\n",
       "    <tr>\n",
       "      <th>1</th>\n",
       "      <td>0</td>\n",
       "      <td>104</td>\n",
       "      <td>0.019139</td>\n",
       "      <td>20</td>\n",
       "      <td>0</td>\n",
       "      <td>0</td>\n",
       "      <td>2</td>\n",
       "      <td>2</td>\n",
       "      <td>0</td>\n",
       "      <td>0</td>\n",
       "    </tr>\n",
       "    <tr>\n",
       "      <th>2</th>\n",
       "      <td>1</td>\n",
       "      <td>136</td>\n",
       "      <td>0.000000</td>\n",
       "      <td>22</td>\n",
       "      <td>0</td>\n",
       "      <td>0</td>\n",
       "      <td>0</td>\n",
       "      <td>0</td>\n",
       "      <td>1</td>\n",
       "      <td>0</td>\n",
       "    </tr>\n",
       "    <tr>\n",
       "      <th>3</th>\n",
       "      <td>0</td>\n",
       "      <td>70</td>\n",
       "      <td>0.042553</td>\n",
       "      <td>11</td>\n",
       "      <td>0</td>\n",
       "      <td>0</td>\n",
       "      <td>0</td>\n",
       "      <td>0</td>\n",
       "      <td>0</td>\n",
       "      <td>0</td>\n",
       "    </tr>\n",
       "    <tr>\n",
       "      <th>4</th>\n",
       "      <td>0</td>\n",
       "      <td>5</td>\n",
       "      <td>0.727273</td>\n",
       "      <td>1</td>\n",
       "      <td>0</td>\n",
       "      <td>0</td>\n",
       "      <td>0</td>\n",
       "      <td>0</td>\n",
       "      <td>0</td>\n",
       "      <td>1</td>\n",
       "    </tr>\n",
       "  </tbody>\n",
       "</table>\n",
       "</div>"
      ],
      "text/plain": [
       "   !!!  #lettercount  #upper_cased  #wordcount  (((  )))  ,,,  ...  ???  @@@\n",
       "0    0            12      0.160000           2    0    0    0    0    0    0\n",
       "1    0           104      0.019139          20    0    0    2    2    0    0\n",
       "2    1           136      0.000000          22    0    0    0    0    1    0\n",
       "3    0            70      0.042553          11    0    0    0    0    0    0\n",
       "4    0             5      0.727273           1    0    0    0    0    0    1"
      ]
     },
     "execution_count": 31,
     "metadata": {},
     "output_type": "execute_result"
    }
   ],
   "source": [
    "test_custom = pd.DataFrame(list(test['content'].apply(transm_emoticon))).fillna(0)\n",
    "test_custom.head()"
   ]
  },
  {
   "cell_type": "code",
   "execution_count": null,
   "metadata": {
    "collapsed": true
   },
   "outputs": [],
   "source": []
  },
  {
   "cell_type": "code",
   "execution_count": 32,
   "metadata": {},
   "outputs": [
    {
     "data": {
      "text/plain": [
       "((30000, 25685), (30000, 10), (10000, 25685), (10000, 10))"
      ]
     },
     "execution_count": 32,
     "metadata": {},
     "output_type": "execute_result"
    }
   ],
   "source": [
    "X_train.shape, np.array(train_custom.values).shape, X_test.shape, np.array(test_custom.values).shape"
   ]
  },
  {
   "cell_type": "code",
   "execution_count": 33,
   "metadata": {
    "collapsed": true
   },
   "outputs": [],
   "source": [
    "import scipy.sparse"
   ]
  },
  {
   "cell_type": "code",
   "execution_count": 34,
   "metadata": {
    "collapsed": true
   },
   "outputs": [],
   "source": [
    "X_train = scipy.sparse.hstack((X_train, np.array(train_custom.values)))\n",
    "X_test  = scipy.sparse.hstack((X_test,  np.array(test_custom.values)))"
   ]
  },
  {
   "cell_type": "code",
   "execution_count": null,
   "metadata": {
    "collapsed": true
   },
   "outputs": [],
   "source": []
  },
  {
   "cell_type": "code",
   "execution_count": 35,
   "metadata": {
    "collapsed": true
   },
   "outputs": [],
   "source": [
    "y_train = train['sent_enc']"
   ]
  },
  {
   "cell_type": "code",
   "execution_count": 36,
   "metadata": {},
   "outputs": [
    {
     "data": {
      "text/plain": [
       "((30000, 25695), (30000,), (10000, 25695))"
      ]
     },
     "execution_count": 36,
     "metadata": {},
     "output_type": "execute_result"
    }
   ],
   "source": [
    "X_train.shape, y_train.shape, X_test.shape"
   ]
  },
  {
   "cell_type": "code",
   "execution_count": null,
   "metadata": {
    "collapsed": true
   },
   "outputs": [],
   "source": []
  },
  {
   "cell_type": "code",
   "execution_count": null,
   "metadata": {
    "collapsed": true
   },
   "outputs": [],
   "source": []
  },
  {
   "cell_type": "code",
   "execution_count": null,
   "metadata": {
    "collapsed": true
   },
   "outputs": [],
   "source": []
  },
  {
   "cell_type": "code",
   "execution_count": 37,
   "metadata": {
    "collapsed": true
   },
   "outputs": [],
   "source": [
    "cv_strategy = ShuffleSplit(n_splits=5, test_size=0.2, random_state=33)"
   ]
  },
  {
   "cell_type": "markdown",
   "metadata": {},
   "source": [
    "good : `LogisticRegression(penalty='l1', C=1)`"
   ]
  },
  {
   "cell_type": "code",
   "execution_count": 32,
   "metadata": {
    "collapsed": true,
    "scrolled": true
   },
   "outputs": [],
   "source": [
    "# for kernel in ['liblinear', 'newton-cg', 'sag', 'saga', 'lbfgs']:\n",
    "#     for C in tqdm([0.5, 0.7, 0.9, 1.0, 1.1, 1.2, 1.3]):\n",
    "#         estimator = LogisticRegression(penalty='l2', C=C, solver=kernel)#SGDClassifier(max_iter=10000, tol=0.1, penalty='elasticnet', alpha=0.1)\n",
    "#         scoring = cross_val_score(estimator, X_train, y_train, scoring='accuracy', cv=cv_strategy, verbose=3, n_jobs=3)\n",
    "#         print('c:', C, 'kernel:', kernel, 'score:', scoring.mean())"
   ]
  },
  {
   "cell_type": "code",
   "execution_count": 72,
   "metadata": {},
   "outputs": [
    {
     "ename": "SyntaxError",
     "evalue": "invalid syntax (<ipython-input-72-a62ec3d5ebb9>, line 1)",
     "output_type": "error",
     "traceback": [
      "\u001b[0;36m  File \u001b[0;32m\"<ipython-input-72-a62ec3d5ebb9>\"\u001b[0;36m, line \u001b[0;32m1\u001b[0m\n\u001b[0;31m    c: 1.3 kernel: liblinear score: 0.346633333333\u001b[0m\n\u001b[0m                ^\u001b[0m\n\u001b[0;31mSyntaxError\u001b[0m\u001b[0;31m:\u001b[0m invalid syntax\n"
     ]
    }
   ],
   "source": [
    "c: 1.3 kernel: liblinear score: 0.346633333333\n",
    "c: 1.1 kernel: sag score: 0.346566666667\n",
    "c: 1.1 kernel: saga score: 0.346666666667\n",
    "c: 1.1 kernel: lbfgs score: 0.3465"
   ]
  },
  {
   "cell_type": "code",
   "execution_count": null,
   "metadata": {
    "collapsed": true
   },
   "outputs": [],
   "source": []
  },
  {
   "cell_type": "code",
   "execution_count": null,
   "metadata": {
    "collapsed": true
   },
   "outputs": [],
   "source": []
  },
  {
   "cell_type": "code",
   "execution_count": 38,
   "metadata": {
    "collapsed": true
   },
   "outputs": [],
   "source": [
    "cv_strategy = ShuffleSplit(n_splits=10, test_size=0.2)#, random_state=33)"
   ]
  },
  {
   "cell_type": "markdown",
   "metadata": {},
   "source": [
    "# logReg"
   ]
  },
  {
   "cell_type": "code",
   "execution_count": 39,
   "metadata": {},
   "outputs": [
    {
     "name": "stdout",
     "output_type": "stream",
     "text": [
      "[CV]  ................................................................\n",
      "[CV]  ................................................................\n",
      "[CV]  ................................................................\n",
      "[CV] ................................... , score=0.3575, total=  22.9s\n",
      "[CV]  ................................................................\n",
      "[CV] ...................... , score=0.36083333333333334, total=  26.1s\n",
      "[CV]  ................................................................\n",
      "[CV] .................................... , score=0.361, total=  30.8s\n",
      "[CV]  ................................................................\n",
      "[CV] .................................... , score=0.359, total=  21.2s\n",
      "[CV]  ................................................................\n",
      "[CV] ...................... , score=0.35333333333333333, total=  23.4s\n",
      "[CV]  ................................................................\n",
      "[CV] ................................... , score=0.3575, total=  22.9s\n",
      "[CV]  ................................................................\n",
      "[CV] .................................... , score=0.353, total=  22.3s\n",
      "[CV]  ................................................................\n",
      "[CV] ....................... , score=0.3586666666666667, total=  19.4s\n",
      "[CV] ...................... , score=0.35933333333333334, total=  23.1s\n",
      "[CV] ...................... , score=0.35383333333333333, total=  18.0s\n",
      "score: 0.3574\n"
     ]
    },
    {
     "name": "stderr",
     "output_type": "stream",
     "text": [
      "[Parallel(n_jobs=3)]: Done  10 out of  10 | elapsed:  1.4min finished\n"
     ]
    }
   ],
   "source": [
    "estimator = LogisticRegression(penalty='l1', C=0.45, tol=0.00027, solver='liblinear', max_iter=10500)#SGDClassifier(max_iter=10000, tol=0.1, penalty='elasticnet', alpha=0.1)\n",
    "scoring = cross_val_score(estimator, X_train, y_train, scoring='accuracy', cv=cv_strategy, verbose=3, n_jobs=3)\n",
    "print('score:', scoring.mean())"
   ]
  },
  {
   "cell_type": "code",
   "execution_count": 80,
   "metadata": {
    "collapsed": true
   },
   "outputs": [],
   "source": [
    "import itertools\n",
    "def plot_confusion_matrix(cm, classes,\n",
    "                          normalize=False,\n",
    "                          title='Confusion matrix',\n",
    "                          cmap=plt.cm.Blues):\n",
    "    \"\"\"\n",
    "    This function prints and plots the confusion matrix.\n",
    "    Normalization can be applied by setting `normalize=True`.\n",
    "    \"\"\"\n",
    "    if normalize:\n",
    "        cm = cm.astype('float') / cm.sum(axis=1)[:, np.newaxis]\n",
    "        print(\"Normalized confusion matrix\")\n",
    "    else:\n",
    "        print('Confusion matrix, without normalization')\n",
    "\n",
    "#     print(cm)\n",
    "\n",
    "    plt.imshow(cm, interpolation='nearest', cmap=cmap)\n",
    "    plt.title(title)\n",
    "    plt.colorbar()\n",
    "    tick_marks = np.arange(len(classes))\n",
    "    plt.xticks(tick_marks, classes, rotation=45)\n",
    "    plt.yticks(tick_marks, classes)\n",
    "\n",
    "    fmt = '.2f' if normalize else 'd'\n",
    "    thresh = cm.max() / 2.\n",
    "    for i, j in itertools.product(range(cm.shape[0]), range(cm.shape[1])):\n",
    "        plt.text(j, i, format(cm[i, j], fmt),\n",
    "                 horizontalalignment=\"center\",\n",
    "                 color=\"white\" if cm[i, j] > thresh else \"black\")\n",
    "\n",
    "    plt.tight_layout()\n",
    "    plt.ylabel('True label')\n",
    "    plt.xlabel('Predicted label')"
   ]
  },
  {
   "cell_type": "code",
   "execution_count": 81,
   "metadata": {
    "collapsed": true
   },
   "outputs": [],
   "source": [
    "from sklearn.metrics import confusion_matrix\n",
    "\n",
    "X_subtrain, X_subtest, y_subtrain, y_subtest = train_test_split(X_train, y_train, test_size=0.2)\n",
    "estimator.fit(X_subtrain, y_subtrain)\n",
    "subpred = estimator.predict(X_subtest)"
   ]
  },
  {
   "cell_type": "code",
   "execution_count": 82,
   "metadata": {
    "scrolled": false
   },
   "outputs": [
    {
     "name": "stdout",
     "output_type": "stream",
     "text": [
      "Confusion matrix, without normalization\n",
      "Normalized confusion matrix\n"
     ]
    },
    {
     "data": {
      "image/png": "[encoded data removed]",
      "text/plain": [
       "<matplotlib.figure.Figure at 0x7faf26507e80>"
      ]
     },
     "metadata": {},
     "output_type": "display_data"
    },
    {
     "data": {
      "image/png": "[encoded data removed]",
      "text/plain": [
       "<matplotlib.figure.Figure at 0x7faf26517710>"
      ]
     },
     "metadata": {},
     "output_type": "display_data"
    }
   ],
   "source": [
    "class_names =sent_dict.keys()\n",
    "\n",
    "cnf_matrix = confusion_matrix(y_subtest, subpred)\n",
    "np.set_printoptions(precision=2)\n",
    "\n",
    "# Plot non-normalized confusion matrix\n",
    "plt.figure(figsize=(10, 10))\n",
    "plot_confusion_matrix(cnf_matrix, classes=class_names,\n",
    "                      title='Confusion matrix, without normalization')\n",
    "\n",
    "# Plot normalized confusion matrix\n",
    "plt.figure(figsize=(10, 10))\n",
    "plot_confusion_matrix(cnf_matrix, classes=class_names, normalize=True,\n",
    "                      title='Normalized confusion matrix')\n",
    "\n",
    "plt.show()"
   ]
  },
  {
   "cell_type": "markdown",
   "metadata": {},
   "source": [
    "# SVC"
   ]
  },
  {
   "cell_type": "code",
   "execution_count": 62,
   "metadata": {},
   "outputs": [
    {
     "name": "stdout",
     "output_type": "stream",
     "text": [
      "[CV]  ................................................................\n",
      "[CV]  ................................................................\n",
      "[CV]  ................................................................\n",
      "[CV] ...................... , score=0.35433333333333333, total=  42.8s\n",
      "[CV]  ................................................................\n",
      "[CV] ....................... , score=0.3571666666666667, total=  54.9s\n",
      "[CV]  ................................................................\n",
      "[CV] ....................... , score=0.3586666666666667, total=  56.4s\n",
      "[CV]  ................................................................\n",
      "[CV] ................................... , score=0.3635, total=  49.9s\n",
      "[CV]  ................................................................\n",
      "[CV] ....................... , score=0.3641666666666667, total=  56.8s\n",
      "[CV]  ................................................................\n",
      "[CV] ................................... , score=0.3615, total= 1.0min\n",
      "[CV]  ................................................................\n",
      "[CV] ....................... , score=0.3581666666666667, total=  47.6s\n",
      "[CV]  ................................................................\n",
      "[CV] ...................... , score=0.36633333333333334, total=  54.9s\n",
      "[CV] .................................... , score=0.353, total= 1.0min\n",
      "[CV] ...................... , score=0.36283333333333334, total=  47.8s\n",
      "score: 0.359966666667\n"
     ]
    },
    {
     "name": "stderr",
     "output_type": "stream",
     "text": [
      "[Parallel(n_jobs=3)]: Done  10 out of  10 | elapsed:  3.1min finished\n"
     ]
    }
   ],
   "source": [
    "estimator = LinearSVC(penalty = 'l1', dual=False, C=0.45, tol=0.001)\n",
    "scoring = cross_val_score(estimator, X_train, y_train, scoring='accuracy', cv=cv_strategy, verbose=3, n_jobs=3)\n",
    "print('score:', scoring.mean())\n"
   ]
  },
  {
   "cell_type": "markdown",
   "metadata": {},
   "source": [
    "# SGD"
   ]
  },
  {
   "cell_type": "code",
   "execution_count": 68,
   "metadata": {},
   "outputs": [
    {
     "name": "stdout",
     "output_type": "stream",
     "text": [
      "[CV]  ................................................................\n",
      "[CV]  ................................................................\n",
      "[CV]  ................................................................\n"
     ]
    },
    {
     "name": "stderr",
     "output_type": "stream",
     "text": [
      "/home/celidos/anaconda3/lib/python3.6/site-packages/sklearn/linear_model/stochastic_gradient.py:451: ConvergenceWarning: Maximum number of iteration reached before convergence. Consider increasing max_iter to improve the fit.\n",
      "  ConvergenceWarning)\n"
     ]
    },
    {
     "name": "stdout",
     "output_type": "stream",
     "text": [
      "[CV] ...................... , score=0.12016666666666667, total=   4.3s\n",
      "[CV]  ................................................................\n"
     ]
    },
    {
     "name": "stderr",
     "output_type": "stream",
     "text": [
      "/home/celidos/anaconda3/lib/python3.6/site-packages/sklearn/linear_model/stochastic_gradient.py:451: ConvergenceWarning: Maximum number of iteration reached before convergence. Consider increasing max_iter to improve the fit.\n",
      "  ConvergenceWarning)\n"
     ]
    },
    {
     "name": "stdout",
     "output_type": "stream",
     "text": [
      "[CV] ..................................... , score=0.17, total=   5.3s\n",
      "[CV]  ................................................................\n"
     ]
    },
    {
     "name": "stderr",
     "output_type": "stream",
     "text": [
      "/home/celidos/anaconda3/lib/python3.6/site-packages/sklearn/linear_model/stochastic_gradient.py:451: ConvergenceWarning: Maximum number of iteration reached before convergence. Consider increasing max_iter to improve the fit.\n",
      "  ConvergenceWarning)\n"
     ]
    },
    {
     "name": "stdout",
     "output_type": "stream",
     "text": [
      "[CV] .................................... , score=0.167, total=   6.0s\n",
      "[CV]  ................................................................\n"
     ]
    },
    {
     "ename": "KeyboardInterrupt",
     "evalue": "",
     "output_type": "error",
     "traceback": [
      "\u001b[0;31m---------------------------------------------------------------------------\u001b[0m",
      "\u001b[0;31mKeyboardInterrupt\u001b[0m                         Traceback (most recent call last)",
      "\u001b[0;32m<ipython-input-68-8f11836d3daa>\u001b[0m in \u001b[0;36m<module>\u001b[0;34m()\u001b[0m\n\u001b[1;32m      1\u001b[0m \u001b[0mestimator\u001b[0m \u001b[0;34m=\u001b[0m \u001b[0mSGDClassifier\u001b[0m\u001b[0;34m(\u001b[0m\u001b[0mmax_iter\u001b[0m\u001b[0;34m=\u001b[0m\u001b[0;36m50\u001b[0m\u001b[0;34m,\u001b[0m \u001b[0mtol\u001b[0m\u001b[0;34m=\u001b[0m\u001b[0;36m0.0001\u001b[0m\u001b[0;34m,\u001b[0m \u001b[0mpenalty\u001b[0m\u001b[0;34m=\u001b[0m\u001b[0;34m'l2'\u001b[0m\u001b[0;34m,\u001b[0m \u001b[0malpha\u001b[0m\u001b[0;34m=\u001b[0m\u001b[0;36m0.00002\u001b[0m\u001b[0;34m)\u001b[0m\u001b[0;34m\u001b[0m\u001b[0m\n\u001b[0;32m----> 2\u001b[0;31m \u001b[0mscoring\u001b[0m \u001b[0;34m=\u001b[0m \u001b[0mcross_val_score\u001b[0m\u001b[0;34m(\u001b[0m\u001b[0mestimator\u001b[0m\u001b[0;34m,\u001b[0m \u001b[0mX_train\u001b[0m\u001b[0;34m,\u001b[0m \u001b[0my_train\u001b[0m\u001b[0;34m,\u001b[0m \u001b[0mscoring\u001b[0m\u001b[0;34m=\u001b[0m\u001b[0;34m'accuracy'\u001b[0m\u001b[0;34m,\u001b[0m \u001b[0mcv\u001b[0m\u001b[0;34m=\u001b[0m\u001b[0mcv_strategy\u001b[0m\u001b[0;34m,\u001b[0m \u001b[0mverbose\u001b[0m\u001b[0;34m=\u001b[0m\u001b[0;36m3\u001b[0m\u001b[0;34m,\u001b[0m \u001b[0mn_jobs\u001b[0m\u001b[0;34m=\u001b[0m\u001b[0;36m3\u001b[0m\u001b[0;34m)\u001b[0m\u001b[0;34m\u001b[0m\u001b[0m\n\u001b[0m\u001b[1;32m      3\u001b[0m \u001b[0mprint\u001b[0m\u001b[0;34m(\u001b[0m\u001b[0;34m'score:'\u001b[0m\u001b[0;34m,\u001b[0m \u001b[0mscoring\u001b[0m\u001b[0;34m.\u001b[0m\u001b[0mmean\u001b[0m\u001b[0;34m(\u001b[0m\u001b[0;34m)\u001b[0m\u001b[0;34m)\u001b[0m\u001b[0;34m\u001b[0m\u001b[0m\n",
      "\u001b[0;32m~/anaconda3/lib/python3.6/site-packages/sklearn/model_selection/_validation.py\u001b[0m in \u001b[0;36mcross_val_score\u001b[0;34m(estimator, X, y, groups, scoring, cv, n_jobs, verbose, fit_params, pre_dispatch)\u001b[0m\n\u001b[1;32m    340\u001b[0m                                 \u001b[0mn_jobs\u001b[0m\u001b[0;34m=\u001b[0m\u001b[0mn_jobs\u001b[0m\u001b[0;34m,\u001b[0m \u001b[0mverbose\u001b[0m\u001b[0;34m=\u001b[0m\u001b[0mverbose\u001b[0m\u001b[0;34m,\u001b[0m\u001b[0;34m\u001b[0m\u001b[0m\n\u001b[1;32m    341\u001b[0m                                 \u001b[0mfit_params\u001b[0m\u001b[0;34m=\u001b[0m\u001b[0mfit_params\u001b[0m\u001b[0;34m,\u001b[0m\u001b[0;34m\u001b[0m\u001b[0m\n\u001b[0;32m--> 342\u001b[0;31m                                 pre_dispatch=pre_dispatch)\n\u001b[0m\u001b[1;32m    343\u001b[0m     \u001b[0;32mreturn\u001b[0m \u001b[0mcv_results\u001b[0m\u001b[0;34m[\u001b[0m\u001b[0;34m'test_score'\u001b[0m\u001b[0;34m]\u001b[0m\u001b[0;34m\u001b[0m\u001b[0m\n\u001b[1;32m    344\u001b[0m \u001b[0;34m\u001b[0m\u001b[0m\n",
      "\u001b[0;32m~/anaconda3/lib/python3.6/site-packages/sklearn/model_selection/_validation.py\u001b[0m in \u001b[0;36mcross_validate\u001b[0;34m(estimator, X, y, groups, scoring, cv, n_jobs, verbose, fit_params, pre_dispatch, return_train_score)\u001b[0m\n\u001b[1;32m    204\u001b[0m             \u001b[0mfit_params\u001b[0m\u001b[0;34m,\u001b[0m \u001b[0mreturn_train_score\u001b[0m\u001b[0;34m=\u001b[0m\u001b[0mreturn_train_score\u001b[0m\u001b[0;34m,\u001b[0m\u001b[0;34m\u001b[0m\u001b[0m\n\u001b[1;32m    205\u001b[0m             return_times=True)\n\u001b[0;32m--> 206\u001b[0;31m         for train, test in cv.split(X, y, groups))\n\u001b[0m\u001b[1;32m    207\u001b[0m \u001b[0;34m\u001b[0m\u001b[0m\n\u001b[1;32m    208\u001b[0m     \u001b[0;32mif\u001b[0m \u001b[0mreturn_train_score\u001b[0m\u001b[0;34m:\u001b[0m\u001b[0;34m\u001b[0m\u001b[0m\n",
      "\u001b[0;32m~/anaconda3/lib/python3.6/site-packages/sklearn/externals/joblib/parallel.py\u001b[0m in \u001b[0;36m__call__\u001b[0;34m(self, iterable)\u001b[0m\n\u001b[1;32m    787\u001b[0m                 \u001b[0;31m# consumption.\u001b[0m\u001b[0;34m\u001b[0m\u001b[0;34m\u001b[0m\u001b[0m\n\u001b[1;32m    788\u001b[0m                 \u001b[0mself\u001b[0m\u001b[0;34m.\u001b[0m\u001b[0m_iterating\u001b[0m \u001b[0;34m=\u001b[0m \u001b[0;32mFalse\u001b[0m\u001b[0;34m\u001b[0m\u001b[0m\n\u001b[0;32m--> 789\u001b[0;31m             \u001b[0mself\u001b[0m\u001b[0;34m.\u001b[0m\u001b[0mretrieve\u001b[0m\u001b[0;34m(\u001b[0m\u001b[0;34m)\u001b[0m\u001b[0;34m\u001b[0m\u001b[0m\n\u001b[0m\u001b[1;32m    790\u001b[0m             \u001b[0;31m# Make sure that we get a last message telling us we are done\u001b[0m\u001b[0;34m\u001b[0m\u001b[0;34m\u001b[0m\u001b[0m\n\u001b[1;32m    791\u001b[0m             \u001b[0melapsed_time\u001b[0m \u001b[0;34m=\u001b[0m \u001b[0mtime\u001b[0m\u001b[0;34m.\u001b[0m\u001b[0mtime\u001b[0m\u001b[0;34m(\u001b[0m\u001b[0;34m)\u001b[0m \u001b[0;34m-\u001b[0m \u001b[0mself\u001b[0m\u001b[0;34m.\u001b[0m\u001b[0m_start_time\u001b[0m\u001b[0;34m\u001b[0m\u001b[0m\n",
      "\u001b[0;32m~/anaconda3/lib/python3.6/site-packages/sklearn/externals/joblib/parallel.py\u001b[0m in \u001b[0;36mretrieve\u001b[0;34m(self)\u001b[0m\n\u001b[1;32m    697\u001b[0m             \u001b[0;32mtry\u001b[0m\u001b[0;34m:\u001b[0m\u001b[0;34m\u001b[0m\u001b[0m\n\u001b[1;32m    698\u001b[0m                 \u001b[0;32mif\u001b[0m \u001b[0mgetattr\u001b[0m\u001b[0;34m(\u001b[0m\u001b[0mself\u001b[0m\u001b[0;34m.\u001b[0m\u001b[0m_backend\u001b[0m\u001b[0;34m,\u001b[0m \u001b[0;34m'supports_timeout'\u001b[0m\u001b[0;34m,\u001b[0m \u001b[0;32mFalse\u001b[0m\u001b[0;34m)\u001b[0m\u001b[0;34m:\u001b[0m\u001b[0;34m\u001b[0m\u001b[0m\n\u001b[0;32m--> 699\u001b[0;31m                     \u001b[0mself\u001b[0m\u001b[0;34m.\u001b[0m\u001b[0m_output\u001b[0m\u001b[0;34m.\u001b[0m\u001b[0mextend\u001b[0m\u001b[0;34m(\u001b[0m\u001b[0mjob\u001b[0m\u001b[0;34m.\u001b[0m\u001b[0mget\u001b[0m\u001b[0;34m(\u001b[0m\u001b[0mtimeout\u001b[0m\u001b[0;34m=\u001b[0m\u001b[0mself\u001b[0m\u001b[0;34m.\u001b[0m\u001b[0mtimeout\u001b[0m\u001b[0;34m)\u001b[0m\u001b[0;34m)\u001b[0m\u001b[0;34m\u001b[0m\u001b[0m\n\u001b[0m\u001b[1;32m    700\u001b[0m                 \u001b[0;32melse\u001b[0m\u001b[0;34m:\u001b[0m\u001b[0;34m\u001b[0m\u001b[0m\n\u001b[1;32m    701\u001b[0m                     \u001b[0mself\u001b[0m\u001b[0;34m.\u001b[0m\u001b[0m_output\u001b[0m\u001b[0;34m.\u001b[0m\u001b[0mextend\u001b[0m\u001b[0;34m(\u001b[0m\u001b[0mjob\u001b[0m\u001b[0;34m.\u001b[0m\u001b[0mget\u001b[0m\u001b[0;34m(\u001b[0m\u001b[0;34m)\u001b[0m\u001b[0;34m)\u001b[0m\u001b[0;34m\u001b[0m\u001b[0m\n",
      "\u001b[0;32m~/anaconda3/lib/python3.6/multiprocessing/pool.py\u001b[0m in \u001b[0;36mget\u001b[0;34m(self, timeout)\u001b[0m\n\u001b[1;32m    636\u001b[0m \u001b[0;34m\u001b[0m\u001b[0m\n\u001b[1;32m    637\u001b[0m     \u001b[0;32mdef\u001b[0m \u001b[0mget\u001b[0m\u001b[0;34m(\u001b[0m\u001b[0mself\u001b[0m\u001b[0;34m,\u001b[0m \u001b[0mtimeout\u001b[0m\u001b[0;34m=\u001b[0m\u001b[0;32mNone\u001b[0m\u001b[0;34m)\u001b[0m\u001b[0;34m:\u001b[0m\u001b[0;34m\u001b[0m\u001b[0m\n\u001b[0;32m--> 638\u001b[0;31m         \u001b[0mself\u001b[0m\u001b[0;34m.\u001b[0m\u001b[0mwait\u001b[0m\u001b[0;34m(\u001b[0m\u001b[0mtimeout\u001b[0m\u001b[0;34m)\u001b[0m\u001b[0;34m\u001b[0m\u001b[0m\n\u001b[0m\u001b[1;32m    639\u001b[0m         \u001b[0;32mif\u001b[0m \u001b[0;32mnot\u001b[0m \u001b[0mself\u001b[0m\u001b[0;34m.\u001b[0m\u001b[0mready\u001b[0m\u001b[0;34m(\u001b[0m\u001b[0;34m)\u001b[0m\u001b[0;34m:\u001b[0m\u001b[0;34m\u001b[0m\u001b[0m\n\u001b[1;32m    640\u001b[0m             \u001b[0;32mraise\u001b[0m \u001b[0mTimeoutError\u001b[0m\u001b[0;34m\u001b[0m\u001b[0m\n",
      "\u001b[0;32m~/anaconda3/lib/python3.6/multiprocessing/pool.py\u001b[0m in \u001b[0;36mwait\u001b[0;34m(self, timeout)\u001b[0m\n\u001b[1;32m    633\u001b[0m \u001b[0;34m\u001b[0m\u001b[0m\n\u001b[1;32m    634\u001b[0m     \u001b[0;32mdef\u001b[0m \u001b[0mwait\u001b[0m\u001b[0;34m(\u001b[0m\u001b[0mself\u001b[0m\u001b[0;34m,\u001b[0m \u001b[0mtimeout\u001b[0m\u001b[0;34m=\u001b[0m\u001b[0;32mNone\u001b[0m\u001b[0;34m)\u001b[0m\u001b[0;34m:\u001b[0m\u001b[0;34m\u001b[0m\u001b[0m\n\u001b[0;32m--> 635\u001b[0;31m         \u001b[0mself\u001b[0m\u001b[0;34m.\u001b[0m\u001b[0m_event\u001b[0m\u001b[0;34m.\u001b[0m\u001b[0mwait\u001b[0m\u001b[0;34m(\u001b[0m\u001b[0mtimeout\u001b[0m\u001b[0;34m)\u001b[0m\u001b[0;34m\u001b[0m\u001b[0m\n\u001b[0m\u001b[1;32m    636\u001b[0m \u001b[0;34m\u001b[0m\u001b[0m\n\u001b[1;32m    637\u001b[0m     \u001b[0;32mdef\u001b[0m \u001b[0mget\u001b[0m\u001b[0;34m(\u001b[0m\u001b[0mself\u001b[0m\u001b[0;34m,\u001b[0m \u001b[0mtimeout\u001b[0m\u001b[0;34m=\u001b[0m\u001b[0;32mNone\u001b[0m\u001b[0;34m)\u001b[0m\u001b[0;34m:\u001b[0m\u001b[0;34m\u001b[0m\u001b[0m\n",
      "\u001b[0;32m~/anaconda3/lib/python3.6/threading.py\u001b[0m in \u001b[0;36mwait\u001b[0;34m(self, timeout)\u001b[0m\n\u001b[1;32m    549\u001b[0m             \u001b[0msignaled\u001b[0m \u001b[0;34m=\u001b[0m \u001b[0mself\u001b[0m\u001b[0;34m.\u001b[0m\u001b[0m_flag\u001b[0m\u001b[0;34m\u001b[0m\u001b[0m\n\u001b[1;32m    550\u001b[0m             \u001b[0;32mif\u001b[0m \u001b[0;32mnot\u001b[0m \u001b[0msignaled\u001b[0m\u001b[0;34m:\u001b[0m\u001b[0;34m\u001b[0m\u001b[0m\n\u001b[0;32m--> 551\u001b[0;31m                 \u001b[0msignaled\u001b[0m \u001b[0;34m=\u001b[0m \u001b[0mself\u001b[0m\u001b[0;34m.\u001b[0m\u001b[0m_cond\u001b[0m\u001b[0;34m.\u001b[0m\u001b[0mwait\u001b[0m\u001b[0;34m(\u001b[0m\u001b[0mtimeout\u001b[0m\u001b[0;34m)\u001b[0m\u001b[0;34m\u001b[0m\u001b[0m\n\u001b[0m\u001b[1;32m    552\u001b[0m             \u001b[0;32mreturn\u001b[0m \u001b[0msignaled\u001b[0m\u001b[0;34m\u001b[0m\u001b[0m\n\u001b[1;32m    553\u001b[0m \u001b[0;34m\u001b[0m\u001b[0m\n",
      "\u001b[0;32m~/anaconda3/lib/python3.6/threading.py\u001b[0m in \u001b[0;36mwait\u001b[0;34m(self, timeout)\u001b[0m\n\u001b[1;32m    293\u001b[0m         \u001b[0;32mtry\u001b[0m\u001b[0;34m:\u001b[0m    \u001b[0;31m# restore state no matter what (e.g., KeyboardInterrupt)\u001b[0m\u001b[0;34m\u001b[0m\u001b[0m\n\u001b[1;32m    294\u001b[0m             \u001b[0;32mif\u001b[0m \u001b[0mtimeout\u001b[0m \u001b[0;32mis\u001b[0m \u001b[0;32mNone\u001b[0m\u001b[0;34m:\u001b[0m\u001b[0;34m\u001b[0m\u001b[0m\n\u001b[0;32m--> 295\u001b[0;31m                 \u001b[0mwaiter\u001b[0m\u001b[0;34m.\u001b[0m\u001b[0macquire\u001b[0m\u001b[0;34m(\u001b[0m\u001b[0;34m)\u001b[0m\u001b[0;34m\u001b[0m\u001b[0m\n\u001b[0m\u001b[1;32m    296\u001b[0m                 \u001b[0mgotit\u001b[0m \u001b[0;34m=\u001b[0m \u001b[0;32mTrue\u001b[0m\u001b[0;34m\u001b[0m\u001b[0m\n\u001b[1;32m    297\u001b[0m             \u001b[0;32melse\u001b[0m\u001b[0;34m:\u001b[0m\u001b[0;34m\u001b[0m\u001b[0m\n",
      "\u001b[0;31mKeyboardInterrupt\u001b[0m: "
     ]
    }
   ],
   "source": [
    "estimator = SGDClassifier(max_iter=50, tol=0.0001, penalty='l2', alpha=0.00002)\n",
    "scoring = cross_val_score(estimator, X_train, y_train, scoring='accuracy', cv=cv_strategy, verbose=3, n_jobs=3)\n",
    "print('score:', scoring.mean())"
   ]
  },
  {
   "cell_type": "code",
   "execution_count": null,
   "metadata": {
    "collapsed": true
   },
   "outputs": [],
   "source": []
  },
  {
   "cell_type": "code",
   "execution_count": null,
   "metadata": {
    "collapsed": true
   },
   "outputs": [],
   "source": []
  },
  {
   "cell_type": "markdown",
   "metadata": {},
   "source": [
    "# Predict with the best"
   ]
  },
  {
   "cell_type": "code",
   "execution_count": 40,
   "metadata": {
    "collapsed": true
   },
   "outputs": [],
   "source": [
    "from sklearn.model_selection import cross_val_predict"
   ]
  },
  {
   "cell_type": "code",
   "execution_count": 41,
   "metadata": {},
   "outputs": [
    {
     "data": {
      "text/plain": [
       "LogisticRegression(C=0.45, class_weight=None, dual=False, fit_intercept=True,\n",
       "          intercept_scaling=1, max_iter=10500, multi_class='ovr', n_jobs=1,\n",
       "          penalty='l1', random_state=None, solver='liblinear', tol=0.00027,\n",
       "          verbose=0, warm_start=False)"
      ]
     },
     "execution_count": 41,
     "metadata": {},
     "output_type": "execute_result"
    }
   ],
   "source": [
    "estimator.fit(X_train, y_train)"
   ]
  },
  {
   "cell_type": "code",
   "execution_count": 42,
   "metadata": {
    "collapsed": true
   },
   "outputs": [],
   "source": [
    "# cross_val_predict(estimator, X_train, y_train)"
   ]
  },
  {
   "cell_type": "code",
   "execution_count": 42,
   "metadata": {
    "collapsed": true
   },
   "outputs": [],
   "source": [
    "test_predict=estimator.predict(X_test)\n",
    "\n",
    "ans = pd.DataFrame()\n",
    "ans['id'] = test['id']\n",
    "ans['sentiment'] = test_predict\n",
    "ans['sentiment'] = ans['sentiment'].replace(sent_dict_back)\n",
    "ans.to_csv('ans_withoutkeyword.csv', sep = ',', index=False)"
   ]
  },
  {
   "cell_type": "code",
   "execution_count": 43,
   "metadata": {},
   "outputs": [
    {
     "data": {
      "text/html": [
       "<div>\n",
       "<style>\n",
       "    .dataframe thead tr:only-child th {\n",
       "        text-align: right;\n",
       "    }\n",
       "\n",
       "    .dataframe thead th {\n",
       "        text-align: left;\n",
       "    }\n",
       "\n",
       "    .dataframe tbody tr th {\n",
       "        vertical-align: top;\n",
       "    }\n",
       "</style>\n",
       "<table border=\"1\" class=\"dataframe\">\n",
       "  <thead>\n",
       "    <tr style=\"text-align: right;\">\n",
       "      <th></th>\n",
       "      <th>id</th>\n",
       "      <th>sentiment</th>\n",
       "    </tr>\n",
       "  </thead>\n",
       "  <tbody>\n",
       "    <tr>\n",
       "      <th>0</th>\n",
       "      <td>32823</td>\n",
       "      <td>neutral</td>\n",
       "    </tr>\n",
       "    <tr>\n",
       "      <th>1</th>\n",
       "      <td>16298</td>\n",
       "      <td>neutral</td>\n",
       "    </tr>\n",
       "    <tr>\n",
       "      <th>2</th>\n",
       "      <td>28505</td>\n",
       "      <td>happiness</td>\n",
       "    </tr>\n",
       "    <tr>\n",
       "      <th>3</th>\n",
       "      <td>6689</td>\n",
       "      <td>neutral</td>\n",
       "    </tr>\n",
       "    <tr>\n",
       "      <th>4</th>\n",
       "      <td>26893</td>\n",
       "      <td>neutral</td>\n",
       "    </tr>\n",
       "  </tbody>\n",
       "</table>\n",
       "</div>"
      ],
      "text/plain": [
       "      id  sentiment\n",
       "0  32823    neutral\n",
       "1  16298    neutral\n",
       "2  28505  happiness\n",
       "3   6689    neutral\n",
       "4  26893    neutral"
      ]
     },
     "execution_count": 43,
     "metadata": {},
     "output_type": "execute_result"
    }
   ],
   "source": [
    "ans.head()"
   ]
  },
  {
   "cell_type": "code",
   "execution_count": null,
   "metadata": {
    "collapsed": true
   },
   "outputs": [],
   "source": []
  },
  {
   "cell_type": "code",
   "execution_count": null,
   "metadata": {
    "collapsed": true
   },
   "outputs": [],
   "source": []
  },
  {
   "cell_type": "code",
   "execution_count": null,
   "metadata": {
    "collapsed": true
   },
   "outputs": [],
   "source": []
  },
  {
   "cell_type": "markdown",
   "metadata": {},
   "source": [
    "# Подсчет количеств слов"
   ]
  },
  {
   "cell_type": "code",
   "execution_count": 103,
   "metadata": {
    "collapsed": true
   },
   "outputs": [],
   "source": [
    "all_words = set()\n",
    "for phrase in list(train['content']):\n",
    "    newlist = transm(phrase)\n",
    "    all_words |= set(newlist)"
   ]
  },
  {
   "cell_type": "code",
   "execution_count": 104,
   "metadata": {},
   "outputs": [
    {
     "data": {
      "text/plain": [
       "31"
      ]
     },
     "execution_count": 104,
     "metadata": {},
     "output_type": "execute_result"
    }
   ],
   "source": [
    "len(all_words)"
   ]
  },
  {
   "cell_type": "code",
   "execution_count": 105,
   "metadata": {
    "scrolled": false
   },
   "outputs": [
    {
     "data": {
      "text/plain": [
       "['v',\n",
       " 'b',\n",
       " 'a',\n",
       " 't',\n",
       " 'o',\n",
       " 'y',\n",
       " 'h',\n",
       " 'j',\n",
       " 'f',\n",
       " 'i',\n",
       " 'k',\n",
       " 'z',\n",
       " 'g',\n",
       " 'm',\n",
       " '!',\n",
       " '?',\n",
       " 'ï',\n",
       " 'r',\n",
       " 'e',\n",
       " 'w',\n",
       " 'n',\n",
       " 'q',\n",
       " 'c',\n",
       " 'â',\n",
       " 'l',\n",
       " 'd',\n",
       " 'p',\n",
       " ' ',\n",
       " 'u',\n",
       " 's',\n",
       " 'x']"
      ]
     },
     "execution_count": 105,
     "metadata": {},
     "output_type": "execute_result"
    }
   ],
   "source": [
    "list(all_words)[:200]"
   ]
  },
  {
   "cell_type": "code",
   "execution_count": null,
   "metadata": {
    "collapsed": true
   },
   "outputs": [],
   "source": []
  },
  {
   "cell_type": "code",
   "execution_count": 69,
   "metadata": {
    "collapsed": true
   },
   "outputs": [],
   "source": [
    "ans1df = pd.read_csv('ans1.csv')\n",
    "ans2df = pd.read_csv('ans2.csv')\n",
    "# ans3df = pd.read_csv('ans3.csv')"
   ]
  },
  {
   "cell_type": "code",
   "execution_count": 70,
   "metadata": {},
   "outputs": [
    {
     "data": {
      "text/html": [
       "<div>\n",
       "<style>\n",
       "    .dataframe thead tr:only-child th {\n",
       "        text-align: right;\n",
       "    }\n",
       "\n",
       "    .dataframe thead th {\n",
       "        text-align: left;\n",
       "    }\n",
       "\n",
       "    .dataframe tbody tr th {\n",
       "        vertical-align: top;\n",
       "    }\n",
       "</style>\n",
       "<table border=\"1\" class=\"dataframe\">\n",
       "  <thead>\n",
       "    <tr style=\"text-align: right;\">\n",
       "      <th></th>\n",
       "      <th>id</th>\n",
       "      <th>sentiment</th>\n",
       "    </tr>\n",
       "  </thead>\n",
       "  <tbody>\n",
       "    <tr>\n",
       "      <th>0</th>\n",
       "      <td>32823</td>\n",
       "      <td>happiness</td>\n",
       "    </tr>\n",
       "    <tr>\n",
       "      <th>1</th>\n",
       "      <td>16298</td>\n",
       "      <td>worry</td>\n",
       "    </tr>\n",
       "    <tr>\n",
       "      <th>2</th>\n",
       "      <td>28505</td>\n",
       "      <td>happiness</td>\n",
       "    </tr>\n",
       "    <tr>\n",
       "      <th>3</th>\n",
       "      <td>6689</td>\n",
       "      <td>neutral</td>\n",
       "    </tr>\n",
       "    <tr>\n",
       "      <th>4</th>\n",
       "      <td>26893</td>\n",
       "      <td>neutral</td>\n",
       "    </tr>\n",
       "  </tbody>\n",
       "</table>\n",
       "</div>"
      ],
      "text/plain": [
       "      id  sentiment\n",
       "0  32823  happiness\n",
       "1  16298      worry\n",
       "2  28505  happiness\n",
       "3   6689    neutral\n",
       "4  26893    neutral"
      ]
     },
     "execution_count": 70,
     "metadata": {},
     "output_type": "execute_result"
    }
   ],
   "source": [
    "ans1df.head()"
   ]
  },
  {
   "cell_type": "code",
   "execution_count": 71,
   "metadata": {},
   "outputs": [
    {
     "data": {
      "text/html": [
       "<div>\n",
       "<style>\n",
       "    .dataframe thead tr:only-child th {\n",
       "        text-align: right;\n",
       "    }\n",
       "\n",
       "    .dataframe thead th {\n",
       "        text-align: left;\n",
       "    }\n",
       "\n",
       "    .dataframe tbody tr th {\n",
       "        vertical-align: top;\n",
       "    }\n",
       "</style>\n",
       "<table border=\"1\" class=\"dataframe\">\n",
       "  <thead>\n",
       "    <tr style=\"text-align: right;\">\n",
       "      <th></th>\n",
       "      <th>id</th>\n",
       "      <th>sentiment</th>\n",
       "    </tr>\n",
       "  </thead>\n",
       "  <tbody>\n",
       "    <tr>\n",
       "      <th>0</th>\n",
       "      <td>32823</td>\n",
       "      <td>happiness</td>\n",
       "    </tr>\n",
       "    <tr>\n",
       "      <th>1</th>\n",
       "      <td>16298</td>\n",
       "      <td>worry</td>\n",
       "    </tr>\n",
       "    <tr>\n",
       "      <th>2</th>\n",
       "      <td>28505</td>\n",
       "      <td>happiness</td>\n",
       "    </tr>\n",
       "    <tr>\n",
       "      <th>3</th>\n",
       "      <td>6689</td>\n",
       "      <td>neutral</td>\n",
       "    </tr>\n",
       "    <tr>\n",
       "      <th>4</th>\n",
       "      <td>26893</td>\n",
       "      <td>neutral</td>\n",
       "    </tr>\n",
       "  </tbody>\n",
       "</table>\n",
       "</div>"
      ],
      "text/plain": [
       "      id  sentiment\n",
       "0  32823  happiness\n",
       "1  16298      worry\n",
       "2  28505  happiness\n",
       "3   6689    neutral\n",
       "4  26893    neutral"
      ]
     },
     "execution_count": 71,
     "metadata": {},
     "output_type": "execute_result"
    }
   ],
   "source": [
    "ans2df.head()"
   ]
  },
  {
   "cell_type": "code",
   "execution_count": 72,
   "metadata": {
    "collapsed": true
   },
   "outputs": [],
   "source": [
    "# ans3df.head()"
   ]
  },
  {
   "cell_type": "code",
   "execution_count": 73,
   "metadata": {
    "collapsed": true
   },
   "outputs": [],
   "source": [
    "merged = pd.concat([ans1df, ans2df,], axis=1).drop(['id'], axis=1)\n",
    "merged.columns = ['s1', 's2']"
   ]
  },
  {
   "cell_type": "code",
   "execution_count": 74,
   "metadata": {},
   "outputs": [
    {
     "data": {
      "text/html": [
       "<div>\n",
       "<style>\n",
       "    .dataframe thead tr:only-child th {\n",
       "        text-align: right;\n",
       "    }\n",
       "\n",
       "    .dataframe thead th {\n",
       "        text-align: left;\n",
       "    }\n",
       "\n",
       "    .dataframe tbody tr th {\n",
       "        vertical-align: top;\n",
       "    }\n",
       "</style>\n",
       "<table border=\"1\" class=\"dataframe\">\n",
       "  <thead>\n",
       "    <tr style=\"text-align: right;\">\n",
       "      <th></th>\n",
       "      <th>s1</th>\n",
       "      <th>s2</th>\n",
       "    </tr>\n",
       "  </thead>\n",
       "  <tbody>\n",
       "    <tr>\n",
       "      <th>0</th>\n",
       "      <td>happiness</td>\n",
       "      <td>happiness</td>\n",
       "    </tr>\n",
       "    <tr>\n",
       "      <th>1</th>\n",
       "      <td>worry</td>\n",
       "      <td>worry</td>\n",
       "    </tr>\n",
       "    <tr>\n",
       "      <th>2</th>\n",
       "      <td>happiness</td>\n",
       "      <td>happiness</td>\n",
       "    </tr>\n",
       "    <tr>\n",
       "      <th>3</th>\n",
       "      <td>neutral</td>\n",
       "      <td>neutral</td>\n",
       "    </tr>\n",
       "    <tr>\n",
       "      <th>4</th>\n",
       "      <td>neutral</td>\n",
       "      <td>neutral</td>\n",
       "    </tr>\n",
       "  </tbody>\n",
       "</table>\n",
       "</div>"
      ],
      "text/plain": [
       "          s1         s2\n",
       "0  happiness  happiness\n",
       "1      worry      worry\n",
       "2  happiness  happiness\n",
       "3    neutral    neutral\n",
       "4    neutral    neutral"
      ]
     },
     "execution_count": 74,
     "metadata": {},
     "output_type": "execute_result"
    }
   ],
   "source": [
    "merged.head()"
   ]
  },
  {
   "cell_type": "code",
   "execution_count": 75,
   "metadata": {
    "collapsed": true
   },
   "outputs": [],
   "source": [
    "def best_ans(x):\n",
    "    data = Counter(list(x))\n",
    "    common = data.most_common(1)[0][0]\n",
    "    if common == 'neutral':\n",
    "        if x['s1'] != 'neutral':\n",
    "            common = x['s1']\n",
    "            return common\n",
    "        if x['s2'] != 'neutral':\n",
    "            common = x['s2']\n",
    "#         if x['s3'] != 'neutral':\n",
    "#             common = x['s3']\n",
    "    return common"
   ]
  },
  {
   "cell_type": "code",
   "execution_count": 76,
   "metadata": {},
   "outputs": [
    {
     "data": {
      "text/plain": [
       "s1      worry\n",
       "s2    neutral\n",
       "Name: 8, dtype: object"
      ]
     },
     "execution_count": 76,
     "metadata": {},
     "output_type": "execute_result"
    }
   ],
   "source": [
    "merged.iloc[8]"
   ]
  },
  {
   "cell_type": "code",
   "execution_count": 77,
   "metadata": {},
   "outputs": [
    {
     "data": {
      "text/plain": [
       "'worry'"
      ]
     },
     "execution_count": 77,
     "metadata": {},
     "output_type": "execute_result"
    }
   ],
   "source": [
    "best_ans(merged.iloc[8])"
   ]
  },
  {
   "cell_type": "code",
   "execution_count": 78,
   "metadata": {
    "collapsed": true
   },
   "outputs": [],
   "source": [
    "ans = pd.DataFrame()\n",
    "ans['id'] = test['id']\n",
    "# ans['sentiment'] = test_predict\n",
    "ans['sentiment'] = merged.apply(best_ans, axis=1)#ans['sentiment'].replace(sent_dict_back)\n",
    "ans.to_csv('ans4.csv', sep = ',', index=False)"
   ]
  },
  {
   "cell_type": "code",
   "execution_count": 79,
   "metadata": {},
   "outputs": [
    {
     "data": {
      "text/html": [
       "<div>\n",
       "<style>\n",
       "    .dataframe thead tr:only-child th {\n",
       "        text-align: right;\n",
       "    }\n",
       "\n",
       "    .dataframe thead th {\n",
       "        text-align: left;\n",
       "    }\n",
       "\n",
       "    .dataframe tbody tr th {\n",
       "        vertical-align: top;\n",
       "    }\n",
       "</style>\n",
       "<table border=\"1\" class=\"dataframe\">\n",
       "  <thead>\n",
       "    <tr style=\"text-align: right;\">\n",
       "      <th></th>\n",
       "      <th>id</th>\n",
       "      <th>sentiment</th>\n",
       "    </tr>\n",
       "  </thead>\n",
       "  <tbody>\n",
       "    <tr>\n",
       "      <th>0</th>\n",
       "      <td>32823</td>\n",
       "      <td>happiness</td>\n",
       "    </tr>\n",
       "    <tr>\n",
       "      <th>1</th>\n",
       "      <td>16298</td>\n",
       "      <td>worry</td>\n",
       "    </tr>\n",
       "    <tr>\n",
       "      <th>2</th>\n",
       "      <td>28505</td>\n",
       "      <td>happiness</td>\n",
       "    </tr>\n",
       "    <tr>\n",
       "      <th>3</th>\n",
       "      <td>6689</td>\n",
       "      <td>neutral</td>\n",
       "    </tr>\n",
       "    <tr>\n",
       "      <th>4</th>\n",
       "      <td>26893</td>\n",
       "      <td>neutral</td>\n",
       "    </tr>\n",
       "  </tbody>\n",
       "</table>\n",
       "</div>"
      ],
      "text/plain": [
       "      id  sentiment\n",
       "0  32823  happiness\n",
       "1  16298      worry\n",
       "2  28505  happiness\n",
       "3   6689    neutral\n",
       "4  26893    neutral"
      ]
     },
     "execution_count": 79,
     "metadata": {},
     "output_type": "execute_result"
    }
   ],
   "source": [
    "ans.head()"
   ]
  },
  {
   "cell_type": "code",
   "execution_count": null,
   "metadata": {
    "collapsed": true
   },
   "outputs": [],
   "source": []
  }
 ],
 "metadata": {
  "kernelspec": {
   "display_name": "Python 3",
   "language": "python",
   "name": "python3"
  },
  "language_info": {
   "codemirror_mode": {
    "name": "ipython",
    "version": 3
   },
   "file_extension": ".py",
   "mimetype": "text/x-python",
   "name": "python",
   "nbconvert_exporter": "python",
   "pygments_lexer": "ipython3",
   "version": "3.6.3"
  }
 },
 "nbformat": 4,
 "nbformat_minor": 2
}
